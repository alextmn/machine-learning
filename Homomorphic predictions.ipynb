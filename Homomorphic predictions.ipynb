{
 "cells": [
  {
   "cell_type": "markdown",
   "metadata": {},
   "source": [
    "# Homorphic operations over Decision Tree"
   ]
  },
  {
   "cell_type": "markdown",
   "metadata": {},
   "source": [
    "## IRIS Data Set \n",
    "<p>This demo is using the well known IRIS data set.</p>\n",
    "The data set consists of 50 samples from each of three species of Iris (Iris setosa, Iris virginica and Iris versicolor). Four features were measured from each sample: the length and the width of the sepals and petals, in centimeters. "
   ]
  },
  {
   "cell_type": "markdown",
   "metadata": {},
   "source": [
    "## Load IRIS dataset, split to train and test sets and run DecisionTreeClassifier"
   ]
  },
  {
   "cell_type": "code",
   "execution_count": 1,
   "metadata": {},
   "outputs": [],
   "source": [
    "import numpy as np\n",
    "\n",
    "from sklearn.datasets import load_iris\n",
    "from sklearn import tree\n",
    "from sklearn.model_selection import train_test_split\n",
    "\n",
    "iris = load_iris()\n",
    "\n",
    "# split test set for prdictions\n",
    "X_train, X_test, y_train, y_test = train_test_split(iris.data, iris.target, test_size=0.1, random_state=42)\n",
    "\n",
    "clf = tree.DecisionTreeClassifier()\n",
    "clf = clf.fit(X_train, y_train)"
   ]
  },
  {
   "cell_type": "markdown",
   "metadata": {},
   "source": [
    "## Extract All the paths from the decision tree "
   ]
  },
  {
   "cell_type": "code",
   "execution_count": 2,
   "metadata": {},
   "outputs": [],
   "source": [
    "import copy\n",
    "def get_path(tree, feature_names, clazz):\n",
    "        left      = tree.children_left\n",
    "        right     = tree.children_right\n",
    "        threshold = tree.threshold\n",
    "        value = tree.value\n",
    "        features = tree.feature\n",
    "        result = []\n",
    "        \n",
    "        def recurse(left, right, node, tree_path):\n",
    "                if (threshold[node] != -2):\n",
    "                        if left[node] != -1:\n",
    "                                t1 = copy.deepcopy(tree_path)\n",
    "                                t1.append( [ feature_names[ features[node] ] , \"<=\" , threshold[node] ])\n",
    "                                recurse (left, right, left[node], t1)\n",
    "                        if right[node] != -1:\n",
    "                                t2 = copy.deepcopy(tree_path)\n",
    "                                t2.append( [ feature_names[ features[node] ] , \">\" , threshold[node] ])\n",
    "                                recurse (left, right, right[node], t2)\n",
    "                else:\n",
    "                        v = value[node]\n",
    "                        if np.max(v) == v.item(clazz):\n",
    "                            #print (\"path: \" , tree_path, \" \", str(v) )\n",
    "                            result.append(tree_path)\n",
    "\n",
    "        recurse(left, right,  0, [] )\n",
    "        return result"
   ]
  },
  {
   "cell_type": "markdown",
   "metadata": {},
   "source": [
    "## Extract all the paths for Vesicolor ( class: 2 )"
   ]
  },
  {
   "cell_type": "code",
   "execution_count": 3,
   "metadata": {},
   "outputs": [
    {
     "data": {
      "text/plain": [
       "[[['petal_width', '>', 0.800000011920929],\n",
       "  ['petal_width', '<=', 1.75],\n",
       "  ['petal_length', '<=', 4.950000047683716],\n",
       "  ['petal_width', '>', 1.6500000357627869]],\n",
       " [['petal_width', '>', 0.800000011920929],\n",
       "  ['petal_width', '<=', 1.75],\n",
       "  ['petal_length', '>', 4.950000047683716],\n",
       "  ['petal_width', '<=', 1.550000011920929]],\n",
       " [['petal_width', '>', 0.800000011920929],\n",
       "  ['petal_width', '<=', 1.75],\n",
       "  ['petal_length', '>', 4.950000047683716],\n",
       "  ['petal_width', '>', 1.550000011920929],\n",
       "  ['petal_length', '>', 5.450000047683716]],\n",
       " [['petal_width', '>', 0.800000011920929],\n",
       "  ['petal_width', '>', 1.75],\n",
       "  ['petal_length', '<=', 4.8500001430511475],\n",
       "  ['sepal_length', '>', 5.950000047683716]],\n",
       " [['petal_width', '>', 0.800000011920929],\n",
       "  ['petal_width', '>', 1.75],\n",
       "  ['petal_length', '>', 4.8500001430511475]]]"
      ]
     },
     "execution_count": 3,
     "metadata": {},
     "output_type": "execute_result"
    }
   ],
   "source": [
    "#define feature name\n",
    "feauters = [\"sepal_length\",\"sepal_width\",\"petal_length\",\"petal_width\"]\n",
    "path_tree = get_path(clf.tree_, feauters , 2 )\n",
    "path_tree"
   ]
  },
  {
   "cell_type": "markdown",
   "metadata": {},
   "source": [
    "## Make Prediction using DecisionTreeClassifier"
   ]
  },
  {
   "cell_type": "code",
   "execution_count": 4,
   "metadata": {},
   "outputs": [
    {
     "data": {
      "text/plain": [
       "array([1, 0, 2, 1, 1, 0, 1, 2, 1, 1, 2, 0, 0, 0, 0])"
      ]
     },
     "execution_count": 4,
     "metadata": {},
     "output_type": "execute_result"
    }
   ],
   "source": [
    "y_pred = clf.predict(X_test)\n",
    "y_pred"
   ]
  },
  {
   "cell_type": "markdown",
   "metadata": {},
   "source": [
    " ## Make Prediction by evauating the path list for Versicolor\n",
    "   \n",
    " <b>This will be first the binary AND on the individual path, e.g</b>\n",
    "    \n",
    " ```python   \n",
    "  'petal_width', '>', 0.800000011920929\n",
    "  'petal_width', '<=', 1.75\n",
    "  'petal_length', '<=', 4.950000047683716\n",
    "  'petal_width', '>', 1.6500000357627869\n",
    "```\n",
    "\n",
    "   <b>and the result is binary OR between all the paths for the given class</b>\n"
   ]
  },
  {
   "cell_type": "code",
   "execution_count": 5,
   "metadata": {},
   "outputs": [
    {
     "data": {
      "text/plain": [
       "[0, 0, 1, 0, 0, 0, 0, 1, 0, 0, 1, 0, 0, 0, 0]"
      ]
     },
     "execution_count": 5,
     "metadata": {},
     "output_type": "execute_result"
    }
   ],
   "source": [
    "import functools\n",
    "\n",
    "def evaluate_tree(X, names, paths):\n",
    "    def evaluate_expression(Xin, exp, names):\n",
    "        v1 = Xin[ names.index(exp[0]) ]\n",
    "        if exp[1] == \"<=\" :\n",
    "            return int( exp[2] >= v1 )\n",
    "        else:\n",
    "            return int(v1 > exp[2])\n",
    "\n",
    "            # reduce to all path\n",
    "    return functools.reduce(lambda a1,b1: a1 + b1, # Arithmetic OR\n",
    "        map(lambda expr: #reduce to a single tree path\n",
    "                functools.reduce ( lambda a,b: a * b, # Arithmetic AND\n",
    "                      map(lambda a: evaluate_expression( X, a, names), expr)),\n",
    "        paths))\n",
    "\n",
    "plain_result = [ evaluate_tree(X_test[i, :], feauters, path_tree)  for i in range(X_test.shape[0]) ]\n",
    "plain_result"
   ]
  },
  {
   "cell_type": "markdown",
   "metadata": {},
   "source": [
    "# Homorphic Implemention for Path evaluation"
   ]
  },
  {
   "cell_type": "markdown",
   "metadata": {},
   "source": [
    "## Define operations"
   ]
  },
  {
   "cell_type": "code",
   "execution_count": 6,
   "metadata": {},
   "outputs": [],
   "source": [
    "import requests\n",
    "# Kuberantis TD Homomorphic encryption service\n",
    "baseUrl = 'http://13.68.227.239/v1'\n",
    "\n",
    "def encrypt(v):\n",
    "    return requests.post(baseUrl + '/encrypt', params=dict(pubKey='alex', value=v)).json()['encrypted']\n",
    "def decrypt(c):\n",
    "    return requests.post(baseUrl + '/decrypt', params=dict(key='alex', value=c)).json()['value']\n",
    "def mul(c1, c2):\n",
    "    return requests.post(baseUrl + '/mul', params=dict(pubKey='alex', c1=c1, c2=c2)).json()['encrypted']\n",
    "def add(c1, c2):\n",
    "    return requests.post(baseUrl + '/add', params=dict(pubKey='alex', c1=c1, c2=c2)).json()['encrypted']\n",
    "def compare(c1, c2):\n",
    "    return requests.post(baseUrl + '/compare', params=dict(pubKey='alex', c1=c1, c2=c2)).json()['encrypted']"
   ]
  },
  {
   "cell_type": "markdown",
   "metadata": {},
   "source": [
    "## Scaling to integers and encrypting testing data\n",
    "\n",
    "<i>The other party (test data owner) is resposible for this operation</i>"
   ]
  },
  {
   "cell_type": "code",
   "execution_count": 7,
   "metadata": {},
   "outputs": [],
   "source": [
    "scale = 10000\n",
    "# scaling data\n",
    "enc_vector_fn = lambda i: list(map(lambda a:  encrypt( int(round( a * scale )) ), X_test[i,:] ))\n",
    "X_test_enc = [enc_vector_fn(i) for i in range(X_test.shape[0])]"
   ]
  },
  {
   "cell_type": "markdown",
   "metadata": {},
   "source": [
    "## Scaling to integers and encrypting path thresholds\n",
    "<i>the model owner is responsible for this operation</i>"
   ]
  },
  {
   "cell_type": "code",
   "execution_count": 8,
   "metadata": {},
   "outputs": [],
   "source": [
    "#scaling path\n",
    "path_tree_enc = list(\n",
    "map(lambda a1: \n",
    "    list(map(lambda a2: [a2[0], a2[1], encrypt( int(round(a2[2] * scale))) ], a1 )), \n",
    "path_tree))"
   ]
  },
  {
   "cell_type": "markdown",
   "metadata": {},
   "source": [
    "## Make Prediction by evauating the path list for Versicolor\n",
    " All data here is encrypted.<br>\n",
    " The computation is done my the model owner.<br>\n",
    " The model owner is not able to decrypt anything because he/she does not have the private key\n",
    " \n",
    " <b>This will be first the binary AND on the individual path, e.g</b>\n",
    "    \n",
    " ```python   \n",
    "  'petal_width', '>', encrypted(0.800000011920929)\n",
    "  'petal_width', '<=', encrypted(1.75)\n",
    "  'petal_length', '<=', encrypted(4.950000047683716)\n",
    "  'petal_width', '>', encrypted(1.6500000357627869)\n",
    "```\n",
    "\n",
    "   <b>and the result is binary OR between all the paths for the given class</b>"
   ]
  },
  {
   "cell_type": "code",
   "execution_count": 9,
   "metadata": {},
   "outputs": [],
   "source": [
    "def evaluate_tree_enc(X, names, paths): \n",
    "    def evaluate_expression_encrypted(Xin, exp, names):\n",
    "        v1 = Xin[ names.index(exp[0]) ]\n",
    "        if exp[1] == \"<=\" :\n",
    "            return compare( exp[2] , v1 )\n",
    "        else:\n",
    "            return compare( v1 , exp[2]  )\n",
    "    \n",
    "    # reduce to all path\n",
    "    return functools.reduce(lambda a1, b1: add(a1 , b1), # Arithmetic OR\n",
    "        map(lambda expr: #reduce to a single tree path\n",
    "                functools.reduce ( lambda a,b: mul(a ,  b), # Arithmetic AND\n",
    "                      map(lambda a: evaluate_expression_encrypted( X, a, names), expr)),\n",
    "        paths))\n",
    "\n",
    "#decrypt(evaluate_tree_enc(X_test_enc[0], feauters, path_tree_enc))"
   ]
  },
  {
   "cell_type": "markdown",
   "metadata": {},
   "source": [
    "## Evaluate final result\n",
    "(!) note, result is still encrypted"
   ]
  },
  {
   "cell_type": "code",
   "execution_count": 10,
   "metadata": {},
   "outputs": [],
   "source": [
    "enc_result = [ evaluate_tree_enc( X_test_enc[i], feauters, path_tree_enc)  for i in range(X_test.shape[0]) ]"
   ]
  },
  {
   "cell_type": "markdown",
   "metadata": {},
   "source": [
    "## Data owner has a private key, so only he/she can decrypt the result"
   ]
  },
  {
   "cell_type": "code",
   "execution_count": 11,
   "metadata": {},
   "outputs": [
    {
     "data": {
      "text/plain": [
       "[0, 0, 1, 0, 0, 0, 0, 1, 0, 0, 1, 0, 0, 0, 0]"
      ]
     },
     "execution_count": 11,
     "metadata": {},
     "output_type": "execute_result"
    }
   ],
   "source": [
    "homomorphic_decrypted = list(map(lambda a: decrypt(a), enc_result))\n",
    "homomorphic_decrypted"
   ]
  },
  {
   "cell_type": "markdown",
   "metadata": {},
   "source": [
    "## Verify with non-encrypted computation"
   ]
  },
  {
   "cell_type": "code",
   "execution_count": 12,
   "metadata": {},
   "outputs": [
    {
     "data": {
      "text/plain": [
       "[0, 0, 1, 0, 0, 0, 0, 1, 0, 0, 1, 0, 0, 0, 0]"
      ]
     },
     "execution_count": 12,
     "metadata": {},
     "output_type": "execute_result"
    }
   ],
   "source": [
    "plain_result"
   ]
  },
  {
   "cell_type": "markdown",
   "metadata": {},
   "source": [
    "##  Versicolor ( class 2 )  prediction from classifier itself"
   ]
  },
  {
   "cell_type": "code",
   "execution_count": 13,
   "metadata": {},
   "outputs": [
    {
     "data": {
      "text/plain": [
       "[0, 0, 1, 0, 0, 0, 0, 1, 0, 0, 1, 0, 0, 0, 0]"
      ]
     },
     "execution_count": 13,
     "metadata": {},
     "output_type": "execute_result"
    }
   ],
   "source": [
    "(clf.predict(X_test) == 2).astype(int).tolist()"
   ]
  },
  {
   "cell_type": "markdown",
   "metadata": {},
   "source": [
    "# Conclusion \n",
    "\n",
    "Homomorphic encryption could be used in Decision tree and Random Forest to hide coefficients and data.\n",
    "It will allow cryptographically separate a model and data.\n",
    "\n",
    "This allows one organization to evaluate its model over hidden data of the other organization.\n",
    "The computing organization does not see data and results. The other organization does not see the model structure and its coefficients."
   ]
  },
  {
   "cell_type": "code",
   "execution_count": null,
   "metadata": {},
   "outputs": [],
   "source": []
  }
 ],
 "metadata": {
  "kernelspec": {
   "display_name": "Python 3",
   "language": "python",
   "name": "python3"
  },
  "language_info": {
   "codemirror_mode": {
    "name": "ipython",
    "version": 3
   },
   "file_extension": ".py",
   "mimetype": "text/x-python",
   "name": "python",
   "nbconvert_exporter": "python",
   "pygments_lexer": "ipython3",
   "version": "3.6.6"
  },
  "toc": {
   "base_numbering": 1,
   "nav_menu": {},
   "number_sections": true,
   "sideBar": true,
   "skip_h1_title": false,
   "title_cell": "Table of Contents",
   "title_sidebar": "Contents",
   "toc_cell": false,
   "toc_position": {},
   "toc_section_display": true,
   "toc_window_display": false
  }
 },
 "nbformat": 4,
 "nbformat_minor": 2
}
