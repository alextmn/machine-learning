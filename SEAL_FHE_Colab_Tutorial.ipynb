{
  "nbformat": 4,
  "nbformat_minor": 0,
  "metadata": {
    "colab": {
      "name": "SEAL_FHE_Colab_Tutorial.ipynb",
      "provenance": [],
      "collapsed_sections": []
    },
    "kernelspec": {
      "name": "python3",
      "display_name": "Python 3"
    }
  },
  "cells": [
    {
      "cell_type": "markdown",
      "metadata": {
        "id": "iiVbGZVNXTUF",
        "colab_type": "text"
      },
      "source": [
        "# Encrypted Computations Demo using Google Colab\n",
        "\n",
        "## Installation\n",
        "### 1. Download the SEAL-Python library"
      ]
    },
    {
      "cell_type": "code",
      "metadata": {
        "id": "Z0bWQ0XKgGIJ",
        "colab_type": "code",
        "colab": {
          "base_uri": "https://localhost:8080/",
          "height": 34
        },
        "outputId": "d20e326b-6f71-48bc-f7d0-37b551c150fe"
      },
      "source": [
        "!git clone https://github.com/Huelse/SEAL-Python"
      ],
      "execution_count": 2,
      "outputs": [
        {
          "output_type": "stream",
          "text": [
            "fatal: destination path 'SEAL-Python' already exists and is not an empty directory.\n"
          ],
          "name": "stdout"
        }
      ]
    },
    {
      "cell_type": "markdown",
      "metadata": {
        "id": "zAqFf8M5XpHC",
        "colab_type": "text"
      },
      "source": [
        "### 2. Buld SEAL C++ code"
      ]
    },
    {
      "cell_type": "code",
      "metadata": {
        "id": "JimlXkaqgJ7e",
        "colab_type": "code",
        "colab": {
          "base_uri": "https://localhost:8080/",
          "height": 1000
        },
        "outputId": "3dbe0970-4a75-4e24-dfc7-0064edf9f027"
      },
      "source": [
        "!cd SEAL-Python/SEAL/native/src;cmake .;make"
      ],
      "execution_count": 3,
      "outputs": [
        {
          "output_type": "stream",
          "text": [
            "-- The CXX compiler identification is GNU 7.5.0\n",
            "-- The C compiler identification is GNU 7.5.0\n",
            "-- Check for working CXX compiler: /usr/bin/c++\n",
            "-- Check for working CXX compiler: /usr/bin/c++ -- works\n",
            "-- Detecting CXX compiler ABI info\n",
            "-- Detecting CXX compiler ABI info - done\n",
            "-- Detecting CXX compile features\n",
            "-- Detecting CXX compile features - done\n",
            "-- Check for working C compiler: /usr/bin/cc\n",
            "-- Check for working C compiler: /usr/bin/cc -- works\n",
            "-- Detecting C compiler ABI info\n",
            "-- Detecting C compiler ABI info - done\n",
            "-- Detecting C compile features\n",
            "-- Detecting C compile features - done\n",
            "-- Build type (CMAKE_BUILD_TYPE): Release\n",
            "-- Microsoft SEAL debug mode: OFF\n",
            "-- Library build type (SEAL_LIB_BUILD_TYPE): Static_PIC\n",
            "-- Looking for C++ include x86intrin.h\n",
            "-- Looking for C++ include x86intrin.h - found\n",
            "-- Could NOT find MSGSL (missing: MSGSL_INCLUDE_DIR) \n",
            "-- Found ZLIB: /usr/lib/x86_64-linux-gnu/libz.so (found suitable exact version \"1.2.11\") \n",
            "-- Looking for pthread.h\n",
            "-- Looking for pthread.h - found\n",
            "-- Looking for pthread_create\n",
            "-- Looking for pthread_create - not found\n",
            "-- Check if compiler accepts -pthread\n",
            "-- Check if compiler accepts -pthread - yes\n",
            "-- Found Threads: TRUE  \n",
            "-- Configuring done\n",
            "-- Generating done\n",
            "-- Build files have been written to: /content/SEAL-Python/SEAL/native/src\n",
            "\u001b[35m\u001b[1mScanning dependencies of target seal\u001b[0m\n",
            "[  2%] \u001b[32mBuilding CXX object CMakeFiles/seal.dir/seal/batchencoder.cpp.o\u001b[0m\n",
            "[  5%] \u001b[32mBuilding CXX object CMakeFiles/seal.dir/seal/biguint.cpp.o\u001b[0m\n",
            "[  7%] \u001b[32mBuilding CXX object CMakeFiles/seal.dir/seal/ciphertext.cpp.o\u001b[0m\n",
            "[ 10%] \u001b[32mBuilding CXX object CMakeFiles/seal.dir/seal/ckks.cpp.o\u001b[0m\n",
            "[ 12%] \u001b[32mBuilding CXX object CMakeFiles/seal.dir/seal/context.cpp.o\u001b[0m\n",
            "[ 15%] \u001b[32mBuilding CXX object CMakeFiles/seal.dir/seal/decryptor.cpp.o\u001b[0m\n",
            "[ 17%] \u001b[32mBuilding CXX object CMakeFiles/seal.dir/seal/intencoder.cpp.o\u001b[0m\n",
            "[ 20%] \u001b[32mBuilding CXX object CMakeFiles/seal.dir/seal/encryptionparams.cpp.o\u001b[0m\n",
            "[ 23%] \u001b[32mBuilding CXX object CMakeFiles/seal.dir/seal/encryptor.cpp.o\u001b[0m\n",
            "[ 25%] \u001b[32mBuilding CXX object CMakeFiles/seal.dir/seal/evaluator.cpp.o\u001b[0m\n",
            "[ 28%] \u001b[32mBuilding CXX object CMakeFiles/seal.dir/seal/keygenerator.cpp.o\u001b[0m\n",
            "[ 30%] \u001b[32mBuilding CXX object CMakeFiles/seal.dir/seal/kswitchkeys.cpp.o\u001b[0m\n",
            "[ 33%] \u001b[32mBuilding CXX object CMakeFiles/seal.dir/seal/memorymanager.cpp.o\u001b[0m\n",
            "[ 35%] \u001b[32mBuilding CXX object CMakeFiles/seal.dir/seal/modulus.cpp.o\u001b[0m\n",
            "[ 38%] \u001b[32mBuilding CXX object CMakeFiles/seal.dir/seal/plaintext.cpp.o\u001b[0m\n",
            "[ 41%] \u001b[32mBuilding CXX object CMakeFiles/seal.dir/seal/randomgen.cpp.o\u001b[0m\n",
            "[ 43%] \u001b[32mBuilding CXX object CMakeFiles/seal.dir/seal/serialization.cpp.o\u001b[0m\n",
            "[ 46%] \u001b[32mBuilding CXX object CMakeFiles/seal.dir/seal/smallmodulus.cpp.o\u001b[0m\n",
            "[ 48%] \u001b[32mBuilding CXX object CMakeFiles/seal.dir/seal/valcheck.cpp.o\u001b[0m\n",
            "[ 51%] \u001b[32mBuilding CXX object CMakeFiles/seal.dir/seal/util/baseconverter.cpp.o\u001b[0m\n",
            "[ 53%] \u001b[32mBuilding C object CMakeFiles/seal.dir/seal/util/blake2b.c.o\u001b[0m\n",
            "[ 56%] \u001b[32mBuilding C object CMakeFiles/seal.dir/seal/util/blake2xb.c.o\u001b[0m\n",
            "[ 58%] \u001b[32mBuilding CXX object CMakeFiles/seal.dir/seal/util/clipnormal.cpp.o\u001b[0m\n",
            "[ 61%] \u001b[32mBuilding CXX object CMakeFiles/seal.dir/seal/util/croots.cpp.o\u001b[0m\n",
            "[ 64%] \u001b[32mBuilding CXX object CMakeFiles/seal.dir/seal/util/globals.cpp.o\u001b[0m\n",
            "[ 66%] \u001b[32mBuilding CXX object CMakeFiles/seal.dir/seal/util/mempool.cpp.o\u001b[0m\n",
            "[ 69%] \u001b[32mBuilding CXX object CMakeFiles/seal.dir/seal/util/numth.cpp.o\u001b[0m\n",
            "[ 71%] \u001b[32mBuilding CXX object CMakeFiles/seal.dir/seal/util/polyarith.cpp.o\u001b[0m\n",
            "[ 74%] \u001b[32mBuilding CXX object CMakeFiles/seal.dir/seal/util/polyarithmod.cpp.o\u001b[0m\n",
            "[ 76%] \u001b[32mBuilding CXX object CMakeFiles/seal.dir/seal/util/polyarithsmallmod.cpp.o\u001b[0m\n",
            "[ 79%] \u001b[32mBuilding CXX object CMakeFiles/seal.dir/seal/util/rlwe.cpp.o\u001b[0m\n",
            "[ 82%] \u001b[32mBuilding CXX object CMakeFiles/seal.dir/seal/util/scalingvariant.cpp.o\u001b[0m\n",
            "[ 84%] \u001b[32mBuilding CXX object CMakeFiles/seal.dir/seal/util/smallntt.cpp.o\u001b[0m\n",
            "[ 87%] \u001b[32mBuilding CXX object CMakeFiles/seal.dir/seal/util/uintarith.cpp.o\u001b[0m\n",
            "[ 89%] \u001b[32mBuilding CXX object CMakeFiles/seal.dir/seal/util/uintarithmod.cpp.o\u001b[0m\n",
            "[ 92%] \u001b[32mBuilding CXX object CMakeFiles/seal.dir/seal/util/uintarithsmallmod.cpp.o\u001b[0m\n",
            "[ 94%] \u001b[32mBuilding CXX object CMakeFiles/seal.dir/seal/util/uintcore.cpp.o\u001b[0m\n",
            "[ 97%] \u001b[32mBuilding CXX object CMakeFiles/seal.dir/seal/util/ztools.cpp.o\u001b[0m\n",
            "[100%] \u001b[32m\u001b[1mLinking CXX static library /content/SEAL-Python/SEAL/native/lib/libseal-3.4.a\u001b[0m\n",
            "[100%] Built target seal\n"
          ],
          "name": "stdout"
        }
      ]
    },
    {
      "cell_type": "markdown",
      "metadata": {
        "id": "aPjZtjH2XvCV",
        "colab_type": "text"
      },
      "source": [
        "### 3. Download dependencies"
      ]
    },
    {
      "cell_type": "code",
      "metadata": {
        "id": "jSprTxWphmUN",
        "colab_type": "code",
        "colab": {
          "base_uri": "https://localhost:8080/",
          "height": 275
        },
        "outputId": "b7b74f20-262c-43b5-aa6e-eacbffa74599"
      },
      "source": [
        "!pip3 install -r SEAL-Python/requirements.txt"
      ],
      "execution_count": 4,
      "outputs": [
        {
          "output_type": "stream",
          "text": [
            "Requirement already satisfied: pytest in /usr/local/lib/python3.6/dist-packages (from -r SEAL-Python/requirements.txt (line 1)) (3.6.4)\n",
            "Collecting pybind11\n",
            "\u001b[?25l  Downloading https://files.pythonhosted.org/packages/89/e3/d576f6f02bc75bacbc3d42494e8f1d063c95617d86648dba243c2cb3963e/pybind11-2.5.0-py2.py3-none-any.whl (296kB)\n",
            "\u001b[K     |████████████████████████████████| 296kB 2.7MB/s \n",
            "\u001b[?25hRequirement already satisfied: numpy in /usr/local/lib/python3.6/dist-packages (from -r SEAL-Python/requirements.txt (line 3)) (1.18.5)\n",
            "Requirement already satisfied: more-itertools>=4.0.0 in /usr/local/lib/python3.6/dist-packages (from pytest->-r SEAL-Python/requirements.txt (line 1)) (8.4.0)\n",
            "Requirement already satisfied: py>=1.5.0 in /usr/local/lib/python3.6/dist-packages (from pytest->-r SEAL-Python/requirements.txt (line 1)) (1.9.0)\n",
            "Requirement already satisfied: atomicwrites>=1.0 in /usr/local/lib/python3.6/dist-packages (from pytest->-r SEAL-Python/requirements.txt (line 1)) (1.4.0)\n",
            "Requirement already satisfied: attrs>=17.4.0 in /usr/local/lib/python3.6/dist-packages (from pytest->-r SEAL-Python/requirements.txt (line 1)) (19.3.0)\n",
            "Requirement already satisfied: six>=1.10.0 in /usr/local/lib/python3.6/dist-packages (from pytest->-r SEAL-Python/requirements.txt (line 1)) (1.15.0)\n",
            "Requirement already satisfied: pluggy<0.8,>=0.5 in /usr/local/lib/python3.6/dist-packages (from pytest->-r SEAL-Python/requirements.txt (line 1)) (0.7.1)\n",
            "Requirement already satisfied: setuptools in /usr/local/lib/python3.6/dist-packages (from pytest->-r SEAL-Python/requirements.txt (line 1)) (49.1.0)\n",
            "Installing collected packages: pybind11\n",
            "Successfully installed pybind11-2.5.0\n"
          ],
          "name": "stdout"
        }
      ]
    },
    {
      "cell_type": "markdown",
      "metadata": {
        "id": "6rvqmFxYX2dc",
        "colab_type": "text"
      },
      "source": [
        "### 4. Build SEAL-Python"
      ]
    },
    {
      "cell_type": "code",
      "metadata": {
        "id": "QM7zY7OOgm1M",
        "colab_type": "code",
        "colab": {
          "base_uri": "https://localhost:8080/",
          "height": 173
        },
        "outputId": "8250cab4-b6f7-4a50-b6eb-9a0e5921dcaf"
      },
      "source": [
        "!cd SEAL-Python;python3 setup.py build_ext -i"
      ],
      "execution_count": 5,
      "outputs": [
        {
          "output_type": "stream",
          "text": [
            "running build_ext\n",
            "building 'seal' extension\n",
            "creating build\n",
            "creating build/temp.linux-x86_64-3.6\n",
            "creating build/temp.linux-x86_64-3.6/src\n",
            "x86_64-linux-gnu-gcc -pthread -DNDEBUG -g -fwrapv -O2 -Wall -g -fstack-protector-strong -Wformat -Werror=format-security -Wdate-time -D_FORTIFY_SOURCE=2 -fPIC -I/usr/include/python3.6m -I./pybind11/include -I./SEAL/native/src -I/usr/include/python3.6m -c src/base64.cpp -o build/temp.linux-x86_64-3.6/src/base64.o -std=c++17\n",
            "x86_64-linux-gnu-gcc -pthread -DNDEBUG -g -fwrapv -O2 -Wall -g -fstack-protector-strong -Wformat -Werror=format-security -Wdate-time -D_FORTIFY_SOURCE=2 -fPIC -I/usr/include/python3.6m -I./pybind11/include -I./SEAL/native/src -I/usr/include/python3.6m -c src/wrapper.cpp -o build/temp.linux-x86_64-3.6/src/wrapper.o -std=c++17\n",
            "x86_64-linux-gnu-g++ -pthread -shared -Wl,-O1 -Wl,-Bsymbolic-functions -Wl,-Bsymbolic-functions -Wl,-z,relro -Wl,-Bsymbolic-functions -Wl,-z,relro -g -fstack-protector-strong -Wformat -Werror=format-security -Wdate-time -D_FORTIFY_SOURCE=2 build/temp.linux-x86_64-3.6/src/base64.o build/temp.linux-x86_64-3.6/src/wrapper.o ./SEAL/native/lib/libseal-3.4.a -o /content/SEAL-Python/seal.cpython-36m-x86_64-linux-gnu.so\n"
          ],
          "name": "stdout"
        }
      ]
    },
    {
      "cell_type": "markdown",
      "metadata": {
        "id": "0Y7HEBCTX9da",
        "colab_type": "text"
      },
      "source": [
        "### Install SEAL-Python"
      ]
    },
    {
      "cell_type": "code",
      "metadata": {
        "id": "-ftBK2m4jeAV",
        "colab_type": "code",
        "colab": {
          "base_uri": "https://localhost:8080/",
          "height": 241
        },
        "outputId": "d66c196f-f61e-4de2-9039-2efbe67c7573"
      },
      "source": [
        "!cd SEAL-Python;python3 setup.py install"
      ],
      "execution_count": 7,
      "outputs": [
        {
          "output_type": "stream",
          "text": [
            "running install\n",
            "running build\n",
            "running build_ext\n",
            "building 'seal' extension\n",
            "x86_64-linux-gnu-gcc -pthread -DNDEBUG -g -fwrapv -O2 -Wall -g -fstack-protector-strong -Wformat -Werror=format-security -Wdate-time -D_FORTIFY_SOURCE=2 -fPIC -I/usr/include/python3.6m -I./pybind11/include -I./SEAL/native/src -I/usr/include/python3.6m -c src/base64.cpp -o build/temp.linux-x86_64-3.6/src/base64.o -std=c++17\n",
            "x86_64-linux-gnu-gcc -pthread -DNDEBUG -g -fwrapv -O2 -Wall -g -fstack-protector-strong -Wformat -Werror=format-security -Wdate-time -D_FORTIFY_SOURCE=2 -fPIC -I/usr/include/python3.6m -I./pybind11/include -I./SEAL/native/src -I/usr/include/python3.6m -c src/wrapper.cpp -o build/temp.linux-x86_64-3.6/src/wrapper.o -std=c++17\n",
            "creating build/lib.linux-x86_64-3.6\n",
            "x86_64-linux-gnu-g++ -pthread -shared -Wl,-O1 -Wl,-Bsymbolic-functions -Wl,-Bsymbolic-functions -Wl,-z,relro -Wl,-Bsymbolic-functions -Wl,-z,relro -g -fstack-protector-strong -Wformat -Werror=format-security -Wdate-time -D_FORTIFY_SOURCE=2 build/temp.linux-x86_64-3.6/src/base64.o build/temp.linux-x86_64-3.6/src/wrapper.o ./SEAL/native/lib/libseal-3.4.a -o build/lib.linux-x86_64-3.6/seal.cpython-36m-x86_64-linux-gnu.so\n",
            "running install_lib\n",
            "copying build/lib.linux-x86_64-3.6/seal.cpython-36m-x86_64-linux-gnu.so -> /usr/local/lib/python3.6/dist-packages\n",
            "running install_egg_info\n",
            "Writing /usr/local/lib/python3.6/dist-packages/seal-3.4.5.egg-info\n"
          ],
          "name": "stdout"
        }
      ]
    },
    {
      "cell_type": "markdown",
      "metadata": {
        "id": "ER-jpL9IYNQR",
        "colab_type": "text"
      },
      "source": [
        "### Create a key pair, encryptor and decryptoor"
      ]
    },
    {
      "cell_type": "code",
      "metadata": {
        "id": "k561uxiUjyRd",
        "colab_type": "code",
        "colab": {}
      },
      "source": [
        "from seal import *\n",
        "\n",
        "parms = EncryptionParameters(scheme_type.BFV)\n",
        "\n",
        "poly_modulus_degree = 4096\n",
        "parms.set_poly_modulus_degree(poly_modulus_degree)\n",
        "parms.set_coeff_modulus(CoeffModulus.BFVDefault(poly_modulus_degree))\n",
        "parms.set_plain_modulus(256)\n",
        "context = SEALContext.Create(parms)\n",
        "\n",
        "keygen = KeyGenerator(context)\n",
        "public_key = keygen.public_key()\n",
        "secret_key = keygen.secret_key()\n",
        "\n",
        "encryptor = Encryptor(context, public_key)\n",
        "evaluator = Evaluator(context)\n",
        "decryptor = Decryptor(context, secret_key)"
      ],
      "execution_count": 13,
      "outputs": []
    },
    {
      "cell_type": "markdown",
      "metadata": {
        "id": "1xY8lqeqZ554",
        "colab_type": "text"
      },
      "source": [
        "### Encrypt two hex values"
      ]
    },
    {
      "cell_type": "code",
      "metadata": {
        "id": "XVVXmFrsZ5LF",
        "colab_type": "code",
        "colab": {}
      },
      "source": [
        "enc1 = Ciphertext()\n",
        "enc2 = Ciphertext()\n",
        "\n",
        "encryptor.encrypt(Plaintext(\"5\"), enc1)\n",
        "encryptor.encrypt(Plaintext(\"7\"), enc2)\n"
      ],
      "execution_count": 27,
      "outputs": []
    },
    {
      "cell_type": "markdown",
      "metadata": {
        "id": "4XGmAFJ8bJWi",
        "colab_type": "text"
      },
      "source": [
        "Add two encypted numbers"
      ]
    },
    {
      "cell_type": "code",
      "metadata": {
        "id": "o0eIrlZ-bHyk",
        "colab_type": "code",
        "colab": {}
      },
      "source": [
        "evaluator.add_inplace(enc1, enc2)"
      ],
      "execution_count": 29,
      "outputs": []
    },
    {
      "cell_type": "code",
      "metadata": {
        "id": "1ycsIjRHbr6x",
        "colab_type": "code",
        "colab": {
          "base_uri": "https://localhost:8080/",
          "height": 34
        },
        "outputId": "1fcb4c4b-af83-44fb-c2a5-5b2993356b94"
      },
      "source": [
        "# decrypt\n",
        "result = Plaintext()\n",
        "decryptor.decrypt(enc1, result)\n",
        "print(f\"result: 0x{result.to_string()}\")\n"
      ],
      "execution_count": 32,
      "outputs": [
        {
          "output_type": "stream",
          "text": [
            "result: 0xC\n"
          ],
          "name": "stdout"
        }
      ]
    },
    {
      "cell_type": "markdown",
      "metadata": {
        "id": "JB-neEi5c10w",
        "colab_type": "text"
      },
      "source": [
        "Miltiply and decrypt"
      ]
    },
    {
      "cell_type": "code",
      "metadata": {
        "id": "NCTbi8cMc-hK",
        "colab_type": "code",
        "colab": {
          "base_uri": "https://localhost:8080/",
          "height": 34
        },
        "outputId": "d33ad43c-c59e-4a1b-f088-0145e6900195"
      },
      "source": [
        "evaluator.multiply_inplace(enc1, enc2)\n",
        "result_mul = Plaintext()\n",
        "decryptor.decrypt(enc1, result_mul)\n",
        "print(f\"result: 0x{result_mul.to_string()}\")"
      ],
      "execution_count": 33,
      "outputs": [
        {
          "output_type": "stream",
          "text": [
            "result: 0x54\n"
          ],
          "name": "stdout"
        }
      ]
    },
    {
      "cell_type": "markdown",
      "metadata": {
        "id": "DNu_jo5vYMnH",
        "colab_type": "text"
      },
      "source": [
        "### Test from\n",
        "https://github.com/Huelse/SEAL-Python/blob/master/tests/1_bfv_basics.py"
      ]
    },
    {
      "cell_type": "code",
      "metadata": {
        "id": "LnSGYuSHlMMY",
        "colab_type": "code",
        "colab": {
          "base_uri": "https://localhost:8080/",
          "height": 885
        },
        "outputId": "874362f6-7b23-4b6e-e124-115b6587bf25"
      },
      "source": [
        "print(\"-\" * 50)\n",
        "x = \"6\"\n",
        "x_plain = Plaintext(x)\n",
        "print(\"Express x = \" + x + \" as a plaintext polynomial 0x\" +\n",
        "      x_plain.to_string() + \".\")\n",
        "\n",
        "print(\"-\" * 50)\n",
        "x_encrypted = Ciphertext()\n",
        "print(\"Encrypt x_plain to x_encrypted.\")\n",
        "encryptor.encrypt(x_plain, x_encrypted)\n",
        "\n",
        "print(\"    + size of freshly encrypted x: \" + str(x_encrypted.size()))\n",
        "\n",
        "print(\"    + noise budget in freshly encrypted x: \" +\n",
        "      str(decryptor.invariant_noise_budget(x_encrypted)) + \" bits\")\n",
        "\n",
        "x_decrypted = Plaintext()\n",
        "print(\"    + decryption of x_encrypted: \", end=\"\")\n",
        "decryptor.decrypt(x_encrypted, x_decrypted)\n",
        "print(\"0x\" + x_decrypted.to_string() + \" ...... Correct.\")\n",
        "\n",
        "print(\"-\"*50)\n",
        "print(\"Compute x_sq_plus_one (x^2+1).\")\n",
        "\n",
        "x_sq_plus_one = Ciphertext()\n",
        "evaluator.square(x_encrypted, x_sq_plus_one)\n",
        "plain_one = Plaintext(\"1\")\n",
        "evaluator.add_plain_inplace(x_sq_plus_one, plain_one)\n",
        "\n",
        "print(\"    + size of x_sq_plus_one: \" + str(x_sq_plus_one.size()))\n",
        "print(\"    + noise budget in x_sq_plus_one: \" +\n",
        "      str(decryptor.invariant_noise_budget(x_sq_plus_one)) + \" bits\")\n",
        "\n",
        "decrypted_result = Plaintext()\n",
        "print(\"    + decryption of x_sq_plus_one: \", end=\"\")\n",
        "decryptor.decrypt(x_sq_plus_one, decrypted_result)\n",
        "print(\"0x\" + decrypted_result.to_string() + \" ...... Correct.\")\n",
        "\n",
        "\"\"\"\n",
        "Next, we compute (x + 1)^2.\n",
        "\"\"\"\n",
        "print(\"-\"*50)\n",
        "print(\"Compute x_plus_one_sq ((x+1)^2).\")\n",
        "x_plus_one_sq = Ciphertext()\n",
        "evaluator.add_plain(x_encrypted, plain_one, x_plus_one_sq)\n",
        "evaluator.square_inplace(x_plus_one_sq)\n",
        "print(\"    + size of x_plus_one_sq: \" + str(x_plus_one_sq.size()))\n",
        "print(\"    + noise budget in x_plus_one_sq: \" +\n",
        "      str(decryptor.invariant_noise_budget(x_plus_one_sq)) + \" bits\")\n",
        "decryptor.decrypt(x_plus_one_sq, decrypted_result)\n",
        "print(\"    + decryption of x_plus_one_sq: 0x\" +\n",
        "      decrypted_result.to_string() + \" ...... Correct.\")\n",
        "\n",
        "\"\"\"\n",
        "Finally, we multiply (x^2 + 1) * (x + 1)^2 *4.\n",
        "\"\"\"\n",
        "print(\"-\"*50)\n",
        "print(\"Compute encrypted_result (4(x^2+1)(x+1)^2).\")\n",
        "encrypted_result = Ciphertext()\n",
        "plain_four = Plaintext(\"4\")\n",
        "evaluator.multiply_plain_inplace(x_sq_plus_one, plain_four)\n",
        "evaluator.multiply(x_sq_plus_one, x_plus_one_sq, encrypted_result)\n",
        "print(\"    + size of encrypted_result: \" + str(encrypted_result.size()))\n",
        "print(\"    + noise budget in encrypted_result: \" +\n",
        "      str(decryptor.invariant_noise_budget(encrypted_result)) + \" bits\")\n",
        "print(\"NOTE: Decryption can be incorrect if noise budget is zero.\")\n",
        "print(\"\\n~~~~~~ A better way to calculate 4(x^2+1)(x+1)^2. ~~~~~~\")\n",
        "\n",
        "print(\"-\"*50)\n",
        "print(\"Generate relinearization keys.\")\n",
        "relin_keys = keygen.relin_keys()\n",
        "\n",
        "\"\"\"\n",
        "We now repeat the computation relinearizing after each multiplication.\n",
        "\"\"\"\n",
        "print(\"-\"*50)\n",
        "print(\"Compute and relinearize x_squared (x^2),\")\n",
        "print(\" \"*13 + \"then compute x_sq_plus_one (x^2+1)\")\n",
        "x_squared = Ciphertext()\n",
        "evaluator.square(x_encrypted, x_squared)\n",
        "print(\"    + size of x_squared: \" + str(x_squared.size()))\n",
        "evaluator.relinearize_inplace(x_squared, relin_keys)\n",
        "print(\"    + size of x_squared (after relinearization): \" + str(x_squared.size()))\n",
        "evaluator.add_plain(x_squared, plain_one, x_sq_plus_one)\n",
        "print(\"    + noise budget in x_sq_plus_one: \" +\n",
        "      str(decryptor.invariant_noise_budget(x_sq_plus_one)) + \" bits\")\n",
        "decryptor.decrypt(x_sq_plus_one, decrypted_result)\n",
        "print(\"    + decryption of x_sq_plus_one: 0x\" +\n",
        "      decrypted_result.to_string() + \" ...... Correct.\")\n",
        "\n",
        "print(\"-\"*50)\n",
        "x_plus_one = Ciphertext()\n",
        "print(\"Compute x_plus_one (x+1),\")\n",
        "print(\" \"*13 + \"then compute and relinearize x_plus_one_sq ((x+1)^2).\")\n",
        "evaluator.add_plain(x_encrypted, plain_one, x_plus_one)\n",
        "evaluator.square(x_plus_one, x_plus_one_sq)\n",
        "print(\"    + size of x_plus_one_sq: \" + str(x_plus_one_sq.size()))\n",
        "evaluator.relinearize_inplace(x_plus_one_sq, relin_keys)\n",
        "print(\"    + noise budget in x_plus_one_sq: \" +\n",
        "      str(decryptor.invariant_noise_budget(x_plus_one_sq)) + \" bits\")\n",
        "decryptor.decrypt(x_plus_one_sq, decrypted_result)\n",
        "print(\"    + decryption of x_plus_one_sq: 0x\" +\n",
        "      decrypted_result.to_string() + \" ...... Correct.\")\n",
        "\n",
        "print(\"-\"*50)\n",
        "print(\"Compute and relinearize encrypted_result (4(x^2+1)(x+1)^2).\")\n",
        "evaluator.multiply_plain_inplace(x_sq_plus_one, plain_four)\n",
        "evaluator.multiply(x_sq_plus_one, x_plus_one_sq, encrypted_result)\n",
        "print(\"    + size of encrypted_result: \" + str(encrypted_result.size()))\n",
        "evaluator.relinearize_inplace(encrypted_result, relin_keys)\n",
        "print(\"    + size of encrypted_result (after relinearization): \" +\n",
        "      str(encrypted_result.size()))\n",
        "print(\"    + noise budget in encrypted_result: \" +\n",
        "      str(decryptor.invariant_noise_budget(encrypted_result)) + \" bits\")\n",
        "print(\"\\nNOTE: Notice the increase in remaining noise budget.\")\n",
        "\n",
        "print(\"-\"*50)\n",
        "print(\"Decrypt encrypted_result (4(x^2+1)(x+1)^2).\")\n",
        "decryptor.decrypt(encrypted_result, decrypted_result)\n",
        "print(\"    + decryption of 4(x^2+1)(x+1)^2 = 0x\" +\n",
        "      decrypted_result.to_string() + \" ...... Correct.\")\n",
        "\n",
        "\"\"\"\n",
        "For x=6, 4(x^2+1)(x+1)^2 = 7252. Since the plaintext modulus is set to 1024,\n",
        "this result is computed in integers modulo 1024. Therefore the expected output\n",
        "should be 7252 % 1024 == 84, or 0x54 in hexadecimal.\n",
        "\"\"\"\n"
      ],
      "execution_count": 34,
      "outputs": [
        {
          "output_type": "stream",
          "text": [
            "--------------------------------------------------\n",
            "Express x = 6 as a plaintext polynomial 0x6.\n",
            "--------------------------------------------------\n",
            "Encrypt x_plain to x_encrypted.\n",
            "    + size of freshly encrypted x: 2\n",
            "    + noise budget in freshly encrypted x: 57 bits\n",
            "    + decryption of x_encrypted: 0x6 ...... Correct.\n",
            "--------------------------------------------------\n",
            "Compute x_sq_plus_one (x^2+1).\n",
            "    + size of x_sq_plus_one: 3\n",
            "    + noise budget in x_sq_plus_one: 37 bits\n",
            "    + decryption of x_sq_plus_one: 0x25 ...... Correct.\n",
            "--------------------------------------------------\n",
            "Compute x_plus_one_sq ((x+1)^2).\n",
            "    + size of x_plus_one_sq: 3\n",
            "    + noise budget in x_plus_one_sq: 37 bits\n",
            "    + decryption of x_plus_one_sq: 0x31 ...... Correct.\n",
            "--------------------------------------------------\n",
            "Compute encrypted_result (4(x^2+1)(x+1)^2).\n",
            "    + size of encrypted_result: 5\n",
            "    + noise budget in encrypted_result: 8 bits\n",
            "NOTE: Decryption can be incorrect if noise budget is zero.\n",
            "\n",
            "~~~~~~ A better way to calculate 4(x^2+1)(x+1)^2. ~~~~~~\n",
            "--------------------------------------------------\n",
            "Generate relinearization keys.\n",
            "--------------------------------------------------\n",
            "Compute and relinearize x_squared (x^2),\n",
            "             then compute x_sq_plus_one (x^2+1)\n",
            "    + size of x_squared: 3\n",
            "    + size of x_squared (after relinearization): 2\n",
            "    + noise budget in x_sq_plus_one: 37 bits\n",
            "    + decryption of x_sq_plus_one: 0x25 ...... Correct.\n",
            "--------------------------------------------------\n",
            "Compute x_plus_one (x+1),\n",
            "             then compute and relinearize x_plus_one_sq ((x+1)^2).\n",
            "    + size of x_plus_one_sq: 3\n",
            "    + noise budget in x_plus_one_sq: 37 bits\n",
            "    + decryption of x_plus_one_sq: 0x31 ...... Correct.\n",
            "--------------------------------------------------\n",
            "Compute and relinearize encrypted_result (4(x^2+1)(x+1)^2).\n",
            "    + size of encrypted_result: 3\n",
            "    + size of encrypted_result (after relinearization): 2\n",
            "    + noise budget in encrypted_result: 14 bits\n",
            "\n",
            "NOTE: Notice the increase in remaining noise budget.\n",
            "--------------------------------------------------\n",
            "Decrypt encrypted_result (4(x^2+1)(x+1)^2).\n",
            "    + decryption of 4(x^2+1)(x+1)^2 = 0x54 ...... Correct.\n"
          ],
          "name": "stdout"
        },
        {
          "output_type": "execute_result",
          "data": {
            "application/vnd.google.colaboratory.intrinsic+json": {
              "type": "string"
            },
            "text/plain": [
              "'\\nFor x=6, 4(x^2+1)(x+1)^2 = 7252. Since the plaintext modulus is set to 1024,\\nthis result is computed in integers modulo 1024. Therefore the expected output\\nshould be 7252 % 1024 == 84, or 0x54 in hexadecimal.\\n'"
            ]
          },
          "metadata": {
            "tags": []
          },
          "execution_count": 34
        }
      ]
    }
  ]
}