{
  "nbformat": 4,
  "nbformat_minor": 0,
  "metadata": {
    "colab": {
      "name": "SEAL_FHE_Tricks.ipynb",
      "provenance": [],
      "collapsed_sections": []
    },
    "kernelspec": {
      "name": "python3",
      "display_name": "Python 3"
    }
  },
  "cells": [
    {
      "cell_type": "markdown",
      "metadata": {
        "id": "E5uCyy5t4NWB",
        "colab_type": "text"
      },
      "source": [
        "# Encrypted Computations Trip and Tricks\n",
        "## FHE setup\n"
      ]
    },
    {
      "cell_type": "code",
      "metadata": {
        "id": "3PW5UOxz4bpO",
        "colab_type": "code",
        "colab": {
          "base_uri": "https://localhost:8080/",
          "height": 1000
        },
        "outputId": "35170a85-5825-45a9-d113-30d20930490f"
      },
      "source": [
        "!git clone https://github.com/Huelse/SEAL-Python\n",
        "!cd SEAL-Python/SEAL/native/src;cmake .;make\n",
        "!pip3 install -r SEAL-Python/requirements.txt\n",
        "!cd SEAL-Python;python3 setup.py install"
      ],
      "execution_count": 1,
      "outputs": [
        {
          "output_type": "stream",
          "text": [
            "Cloning into 'SEAL-Python'...\n",
            "remote: Enumerating objects: 1115, done.\u001b[K\n",
            "remote: Total 1115 (delta 0), reused 0 (delta 0), pack-reused 1115\u001b[K\n",
            "Receiving objects: 100% (1115/1115), 8.47 MiB | 12.41 MiB/s, done.\n",
            "Resolving deltas: 100% (557/557), done.\n",
            "-- The CXX compiler identification is GNU 7.5.0\n",
            "-- The C compiler identification is GNU 7.5.0\n",
            "-- Check for working CXX compiler: /usr/bin/c++\n",
            "-- Check for working CXX compiler: /usr/bin/c++ -- works\n",
            "-- Detecting CXX compiler ABI info\n",
            "-- Detecting CXX compiler ABI info - done\n",
            "-- Detecting CXX compile features\n",
            "-- Detecting CXX compile features - done\n",
            "-- Check for working C compiler: /usr/bin/cc\n",
            "-- Check for working C compiler: /usr/bin/cc -- works\n",
            "-- Detecting C compiler ABI info\n",
            "-- Detecting C compiler ABI info - done\n",
            "-- Detecting C compile features\n",
            "-- Detecting C compile features - done\n",
            "-- Build type (CMAKE_BUILD_TYPE): Release\n",
            "-- Microsoft SEAL debug mode: OFF\n",
            "-- Library build type (SEAL_LIB_BUILD_TYPE): Static_PIC\n",
            "-- Looking for C++ include x86intrin.h\n",
            "-- Looking for C++ include x86intrin.h - found\n",
            "-- Could NOT find MSGSL (missing: MSGSL_INCLUDE_DIR) \n",
            "-- Found ZLIB: /usr/lib/x86_64-linux-gnu/libz.so (found suitable exact version \"1.2.11\") \n",
            "-- Looking for pthread.h\n",
            "-- Looking for pthread.h - found\n",
            "-- Looking for pthread_create\n",
            "-- Looking for pthread_create - not found\n",
            "-- Check if compiler accepts -pthread\n",
            "-- Check if compiler accepts -pthread - yes\n",
            "-- Found Threads: TRUE  \n",
            "-- Configuring done\n",
            "-- Generating done\n",
            "-- Build files have been written to: /content/SEAL-Python/SEAL/native/src\n",
            "\u001b[35m\u001b[1mScanning dependencies of target seal\u001b[0m\n",
            "[  2%] \u001b[32mBuilding CXX object CMakeFiles/seal.dir/seal/batchencoder.cpp.o\u001b[0m\n",
            "[  5%] \u001b[32mBuilding CXX object CMakeFiles/seal.dir/seal/biguint.cpp.o\u001b[0m\n",
            "[  7%] \u001b[32mBuilding CXX object CMakeFiles/seal.dir/seal/ciphertext.cpp.o\u001b[0m\n",
            "[ 10%] \u001b[32mBuilding CXX object CMakeFiles/seal.dir/seal/ckks.cpp.o\u001b[0m\n",
            "[ 12%] \u001b[32mBuilding CXX object CMakeFiles/seal.dir/seal/context.cpp.o\u001b[0m\n",
            "[ 15%] \u001b[32mBuilding CXX object CMakeFiles/seal.dir/seal/decryptor.cpp.o\u001b[0m\n",
            "[ 17%] \u001b[32mBuilding CXX object CMakeFiles/seal.dir/seal/intencoder.cpp.o\u001b[0m\n",
            "[ 20%] \u001b[32mBuilding CXX object CMakeFiles/seal.dir/seal/encryptionparams.cpp.o\u001b[0m\n",
            "[ 23%] \u001b[32mBuilding CXX object CMakeFiles/seal.dir/seal/encryptor.cpp.o\u001b[0m\n",
            "[ 25%] \u001b[32mBuilding CXX object CMakeFiles/seal.dir/seal/evaluator.cpp.o\u001b[0m\n",
            "[ 28%] \u001b[32mBuilding CXX object CMakeFiles/seal.dir/seal/keygenerator.cpp.o\u001b[0m\n",
            "[ 30%] \u001b[32mBuilding CXX object CMakeFiles/seal.dir/seal/kswitchkeys.cpp.o\u001b[0m\n",
            "[ 33%] \u001b[32mBuilding CXX object CMakeFiles/seal.dir/seal/memorymanager.cpp.o\u001b[0m\n",
            "[ 35%] \u001b[32mBuilding CXX object CMakeFiles/seal.dir/seal/modulus.cpp.o\u001b[0m\n",
            "[ 38%] \u001b[32mBuilding CXX object CMakeFiles/seal.dir/seal/plaintext.cpp.o\u001b[0m\n",
            "[ 41%] \u001b[32mBuilding CXX object CMakeFiles/seal.dir/seal/randomgen.cpp.o\u001b[0m\n",
            "[ 43%] \u001b[32mBuilding CXX object CMakeFiles/seal.dir/seal/serialization.cpp.o\u001b[0m\n",
            "[ 46%] \u001b[32mBuilding CXX object CMakeFiles/seal.dir/seal/smallmodulus.cpp.o\u001b[0m\n",
            "[ 48%] \u001b[32mBuilding CXX object CMakeFiles/seal.dir/seal/valcheck.cpp.o\u001b[0m\n",
            "[ 51%] \u001b[32mBuilding CXX object CMakeFiles/seal.dir/seal/util/baseconverter.cpp.o\u001b[0m\n",
            "[ 53%] \u001b[32mBuilding C object CMakeFiles/seal.dir/seal/util/blake2b.c.o\u001b[0m\n",
            "[ 56%] \u001b[32mBuilding C object CMakeFiles/seal.dir/seal/util/blake2xb.c.o\u001b[0m\n",
            "[ 58%] \u001b[32mBuilding CXX object CMakeFiles/seal.dir/seal/util/clipnormal.cpp.o\u001b[0m\n",
            "[ 61%] \u001b[32mBuilding CXX object CMakeFiles/seal.dir/seal/util/croots.cpp.o\u001b[0m\n",
            "[ 64%] \u001b[32mBuilding CXX object CMakeFiles/seal.dir/seal/util/globals.cpp.o\u001b[0m\n",
            "[ 66%] \u001b[32mBuilding CXX object CMakeFiles/seal.dir/seal/util/mempool.cpp.o\u001b[0m\n",
            "[ 69%] \u001b[32mBuilding CXX object CMakeFiles/seal.dir/seal/util/numth.cpp.o\u001b[0m\n",
            "[ 71%] \u001b[32mBuilding CXX object CMakeFiles/seal.dir/seal/util/polyarith.cpp.o\u001b[0m\n",
            "[ 74%] \u001b[32mBuilding CXX object CMakeFiles/seal.dir/seal/util/polyarithmod.cpp.o\u001b[0m\n",
            "[ 76%] \u001b[32mBuilding CXX object CMakeFiles/seal.dir/seal/util/polyarithsmallmod.cpp.o\u001b[0m\n",
            "[ 79%] \u001b[32mBuilding CXX object CMakeFiles/seal.dir/seal/util/rlwe.cpp.o\u001b[0m\n",
            "[ 82%] \u001b[32mBuilding CXX object CMakeFiles/seal.dir/seal/util/scalingvariant.cpp.o\u001b[0m\n",
            "[ 84%] \u001b[32mBuilding CXX object CMakeFiles/seal.dir/seal/util/smallntt.cpp.o\u001b[0m\n",
            "[ 87%] \u001b[32mBuilding CXX object CMakeFiles/seal.dir/seal/util/uintarith.cpp.o\u001b[0m\n",
            "[ 89%] \u001b[32mBuilding CXX object CMakeFiles/seal.dir/seal/util/uintarithmod.cpp.o\u001b[0m\n",
            "[ 92%] \u001b[32mBuilding CXX object CMakeFiles/seal.dir/seal/util/uintarithsmallmod.cpp.o\u001b[0m\n",
            "[ 94%] \u001b[32mBuilding CXX object CMakeFiles/seal.dir/seal/util/uintcore.cpp.o\u001b[0m\n",
            "[ 97%] \u001b[32mBuilding CXX object CMakeFiles/seal.dir/seal/util/ztools.cpp.o\u001b[0m\n",
            "[100%] \u001b[32m\u001b[1mLinking CXX static library /content/SEAL-Python/SEAL/native/lib/libseal-3.4.a\u001b[0m\n",
            "[100%] Built target seal\n",
            "Requirement already satisfied: pytest in /usr/local/lib/python3.6/dist-packages (from -r SEAL-Python/requirements.txt (line 1)) (3.6.4)\n",
            "Collecting pybind11\n",
            "\u001b[?25l  Downloading https://files.pythonhosted.org/packages/89/e3/d576f6f02bc75bacbc3d42494e8f1d063c95617d86648dba243c2cb3963e/pybind11-2.5.0-py2.py3-none-any.whl (296kB)\n",
            "\u001b[K     |████████████████████████████████| 296kB 4.7MB/s \n",
            "\u001b[?25hRequirement already satisfied: numpy in /usr/local/lib/python3.6/dist-packages (from -r SEAL-Python/requirements.txt (line 3)) (1.18.5)\n",
            "Requirement already satisfied: attrs>=17.4.0 in /usr/local/lib/python3.6/dist-packages (from pytest->-r SEAL-Python/requirements.txt (line 1)) (19.3.0)\n",
            "Requirement already satisfied: more-itertools>=4.0.0 in /usr/local/lib/python3.6/dist-packages (from pytest->-r SEAL-Python/requirements.txt (line 1)) (8.4.0)\n",
            "Requirement already satisfied: pluggy<0.8,>=0.5 in /usr/local/lib/python3.6/dist-packages (from pytest->-r SEAL-Python/requirements.txt (line 1)) (0.7.1)\n",
            "Requirement already satisfied: setuptools in /usr/local/lib/python3.6/dist-packages (from pytest->-r SEAL-Python/requirements.txt (line 1)) (49.1.0)\n",
            "Requirement already satisfied: py>=1.5.0 in /usr/local/lib/python3.6/dist-packages (from pytest->-r SEAL-Python/requirements.txt (line 1)) (1.9.0)\n",
            "Requirement already satisfied: six>=1.10.0 in /usr/local/lib/python3.6/dist-packages (from pytest->-r SEAL-Python/requirements.txt (line 1)) (1.15.0)\n",
            "Requirement already satisfied: atomicwrites>=1.0 in /usr/local/lib/python3.6/dist-packages (from pytest->-r SEAL-Python/requirements.txt (line 1)) (1.4.0)\n",
            "Installing collected packages: pybind11\n",
            "Successfully installed pybind11-2.5.0\n",
            "running install\n",
            "running build\n",
            "running build_ext\n",
            "building 'seal' extension\n",
            "creating build\n",
            "creating build/temp.linux-x86_64-3.6\n",
            "creating build/temp.linux-x86_64-3.6/src\n",
            "x86_64-linux-gnu-gcc -pthread -DNDEBUG -g -fwrapv -O2 -Wall -g -fstack-protector-strong -Wformat -Werror=format-security -Wdate-time -D_FORTIFY_SOURCE=2 -fPIC -I/usr/include/python3.6m -I./pybind11/include -I./SEAL/native/src -I/usr/include/python3.6m -c src/base64.cpp -o build/temp.linux-x86_64-3.6/src/base64.o -std=c++17\n",
            "x86_64-linux-gnu-gcc -pthread -DNDEBUG -g -fwrapv -O2 -Wall -g -fstack-protector-strong -Wformat -Werror=format-security -Wdate-time -D_FORTIFY_SOURCE=2 -fPIC -I/usr/include/python3.6m -I./pybind11/include -I./SEAL/native/src -I/usr/include/python3.6m -c src/wrapper.cpp -o build/temp.linux-x86_64-3.6/src/wrapper.o -std=c++17\n",
            "creating build/lib.linux-x86_64-3.6\n",
            "x86_64-linux-gnu-g++ -pthread -shared -Wl,-O1 -Wl,-Bsymbolic-functions -Wl,-Bsymbolic-functions -Wl,-z,relro -Wl,-Bsymbolic-functions -Wl,-z,relro -g -fstack-protector-strong -Wformat -Werror=format-security -Wdate-time -D_FORTIFY_SOURCE=2 build/temp.linux-x86_64-3.6/src/base64.o build/temp.linux-x86_64-3.6/src/wrapper.o ./SEAL/native/lib/libseal-3.4.a -o build/lib.linux-x86_64-3.6/seal.cpython-36m-x86_64-linux-gnu.so\n",
            "running install_lib\n",
            "copying build/lib.linux-x86_64-3.6/seal.cpython-36m-x86_64-linux-gnu.so -> /usr/local/lib/python3.6/dist-packages\n",
            "running install_egg_info\n",
            "Writing /usr/local/lib/python3.6/dist-packages/seal-3.4.5.egg-info\n"
          ],
          "name": "stdout"
        }
      ]
    },
    {
      "cell_type": "markdown",
      "metadata": {
        "id": "G5_3JMPpOdF_",
        "colab_type": "text"
      },
      "source": [
        "## 1. Basic Usage"
      ]
    },
    {
      "cell_type": "code",
      "metadata": {
        "id": "eyhyTKZeOlGO",
        "colab_type": "code",
        "colab": {}
      },
      "source": [
        "from seal import *\n",
        "from datetime import datetime\n",
        "start=datetime.now()\n",
        "\n",
        "# init params\n",
        "parms = EncryptionParameters(scheme_type.BFV)\n",
        "\n",
        "# Larger poly_modulus_degree makes ciphertext sizes larger and all operations\n",
        "#    slower, but enables more complicated encrypted computations. Recommended\n",
        "#    values are 1024, 2048, 4096, 8192, 16384, 32768, but it is also possible\n",
        "#    to go beyond this range.\n",
        "\n",
        "poly_modulus_degree = 4096\n",
        "parms.set_poly_modulus_degree(poly_modulus_degree)\n",
        "parms.set_coeff_modulus(CoeffModulus.BFVDefault(poly_modulus_degree))\n",
        "\n",
        "# The plaintext modulus can be any positive integer\n",
        "# The plaintext\n",
        "# modulus determines the size of the plaintext data type and the consumption\n",
        "# of noise budget in multiplications. Thus, it is essential to try to keep the\n",
        "# plaintext data type as small as possible for best performance. \n",
        "#\n",
        "# (!) Please note that each encrypted value has a noise budget. Noise budget is getting consumed \n",
        "# during operations on cyphertexts. Once the noise budget of a \n",
        "# ciphertext reaches zero it becomes too corrupted to be decrypted.\n",
        "parms.set_plain_modulus(256)\n",
        "context = SEALContext.Create(parms)\n",
        "\n",
        "keygen = KeyGenerator(context)\n",
        "public_key = keygen.public_key()\n",
        "secret_key = keygen.secret_key()\n",
        "\n",
        "encryptor = Encryptor(context, public_key)\n",
        "evaluator = Evaluator(context)\n",
        "decryptor = Decryptor(context, secret_key)"
      ],
      "execution_count": 36,
      "outputs": []
    },
    {
      "cell_type": "markdown",
      "metadata": {
        "id": "o3oijGzyQxWa",
        "colab_type": "text"
      },
      "source": [
        "# 2. Encrypted operations"
      ]
    },
    {
      "cell_type": "code",
      "metadata": {
        "id": "ksMo4CsdQr2C",
        "colab_type": "code",
        "colab": {
          "base_uri": "https://localhost:8080/",
          "height": 51
        },
        "outputId": "e2340514-06ee-4fa7-8316-ed7419b91172"
      },
      "source": [
        "start=datetime.now()\n",
        "\n",
        "enc1 = Ciphertext()\n",
        "enc2 = Ciphertext()\n",
        "enc3 = Ciphertext()\n",
        "\n",
        "# hex numbers\n",
        "encryptor.encrypt(Plaintext(\"A1\"), enc1)\n",
        "encryptor.encrypt(Plaintext(\"2E\"), enc2)\n",
        "encryptor.encrypt(Plaintext(\"3E\"), enc3)\n",
        "evaluator.add_inplace(enc1, enc2)\n",
        "evaluator.multiply_inplace(enc3, enc2)\n",
        "\n",
        "# decrypt\n",
        "result_add = Plaintext()\n",
        "result_mul = Plaintext()\n",
        "decryptor.decrypt(enc1, result_add)\n",
        "decryptor.decrypt(enc3, result_mul)\n",
        "# 0xA1 + 0x2E = 0xCF\n",
        "# 0x2E * 0x3E = 0xB24\n",
        "# remember that all the computation perform within the given modulus (set_plain_modulus which is 256 = 0x100)\n",
        "# so the correct values are \n",
        "# (0xA1 + 0x2E) mod 0x100 = 0xCF\n",
        "# (0x2E * 0x3E) mod 0x100 = 0xB24\n",
        "print(f\"result_add: 0x{result_add.to_string()}, result_mul 0x{result_mul.to_string()}\")\n",
        "\n",
        "print(f\"completed in {datetime.now()-start}\")"
      ],
      "execution_count": 37,
      "outputs": [
        {
          "output_type": "stream",
          "text": [
            "result_add: 0xCF, result_mul 0x24\n",
            "completed in 0:00:00.022250\n"
          ],
          "name": "stdout"
        }
      ]
    },
    {
      "cell_type": "markdown",
      "metadata": {
        "id": "LH0dQ46mVROx",
        "colab_type": "text"
      },
      "source": [
        "# 3. Relinearization\n",
        "This is an operation that reduces the size of a ciphertext after multiplication back to the initial size"
      ]
    },
    {
      "cell_type": "code",
      "metadata": {
        "id": "j8IotojKViQA",
        "colab_type": "code",
        "colab": {
          "base_uri": "https://localhost:8080/",
          "height": 51
        },
        "outputId": "28fb8ec3-8205-4ae1-c896-3f768879ce28"
      },
      "source": [
        "# there is a special key for it\n",
        "relin_keys = keygen.relin_keys()\n",
        "print(\"size of enc3 value before Relinearization: \" + str(enc3.size()))\n",
        "evaluator.relinearize_inplace(enc3, relin_keys)\n",
        "print(\"size of enc3 value after Relinearization: \" + str(enc3.size()))\n"
      ],
      "execution_count": 43,
      "outputs": [
        {
          "output_type": "stream",
          "text": [
            "size of enc3 value before Relinearization: 3\n",
            "size of enc3 value after Relinearization: 2\n"
          ],
          "name": "stdout"
        }
      ]
    },
    {
      "cell_type": "markdown",
      "metadata": {
        "id": "sCW1NUbC5HS6",
        "colab_type": "text"
      },
      "source": [
        "# 4. You can apply an operation on two large arrays in parallel. This is called batching\n",
        "This is \"recomended\" way of most computations"
      ]
    },
    {
      "cell_type": "code",
      "metadata": {
        "id": "JKEFBciD5Gba",
        "colab_type": "code",
        "colab": {
          "base_uri": "https://localhost:8080/",
          "height": 51
        },
        "outputId": "54318135-c40b-473c-8712-31b5ecaa2b9a"
      },
      "source": [
        "from seal import *\n",
        "from datetime import datetime\n",
        "start=datetime.now()\n",
        "\n",
        "# init fhe\n",
        "parms = EncryptionParameters(scheme_type.BFV)\n",
        "poly_modulus_degree = 8192\n",
        "parms.set_poly_modulus_degree(poly_modulus_degree)\n",
        "parms.set_coeff_modulus(CoeffModulus.BFVDefault(poly_modulus_degree))\n",
        "\n",
        "# To enable batching, we need to set the plain_modulus to be a prime number\n",
        "# congruent to 1 modulo 2*poly_modulus_degree. Microsoft SEAL provides a helper\n",
        "# method for finding such a prime. In this example we create a 20-bit prime\n",
        "# that supports batching.\n",
        "parms.set_plain_modulus(PlainModulus.Batching(poly_modulus_degree, 20))\n",
        "context = SEALContext.Create(parms)\n",
        "\n",
        "# key generation\n",
        "keygen = KeyGenerator(context)\n",
        "public_key = keygen.public_key()\n",
        "secret_key = keygen.secret_key()\n",
        "encryptor = Encryptor(context, public_key)\n",
        "evaluator = Evaluator(context)\n",
        "decryptor = Decryptor(context, secret_key)\n",
        "\n",
        "# create batch enoder\n",
        "batch_encoder = BatchEncoder(context)\n",
        "slot_count = batch_encoder.slot_count()\n",
        "\n",
        "# each  vector is a constant size of the poly_modulus_degree value (8192)\n",
        "# set the values you want in each cell\n",
        "\n",
        "#encrypt vec #1 ( each number is 7 )\n",
        "plain_vec1 = uIntVector( [7] * slot_count )\n",
        "plain_text1 = Plaintext()\n",
        "# encode python matrix in Plaintext\n",
        "batch_encoder.encode(plain_vec1, plain_text1)\n",
        "# and encrypt\n",
        "encrypted1 = Ciphertext()\n",
        "encryptor.encrypt(plain_text1, encrypted1)\n",
        "\n",
        "#encrypt vec #2 (  each number is 3 )\n",
        "plain_vec2 = uIntVector( [3] * slot_count )\n",
        "plain_text2 = Plaintext()\n",
        "batch_encoder.encode(plain_vec2, plain_text2)\n",
        "encrypted2 = Ciphertext()\n",
        "encryptor.encrypt(plain_text2, encrypted2)\n",
        "\n",
        "#  multiply encrypted vectors in parallel\n",
        "evaluator.multiply_inplace(encrypted1, encrypted2);\n",
        "\n",
        "# decrypt\n",
        "plain_result = Plaintext()\n",
        "decryptor.decrypt(encrypted1, plain_result);\n",
        "\n",
        "pod_result = uIntVector()\n",
        "batch_encoder.decode(plain_result, pod_result);\n",
        "\n",
        "# The result should be: 8192 x 7 x 3 = 172032\n",
        "print( f\"{pod_result[:3]}...f{pod_result[-3:]} sum: {sum(pod_result)} \")\n",
        "\n",
        "print(f\"completed in {datetime.now()-start}\")"
      ],
      "execution_count": 24,
      "outputs": [
        {
          "output_type": "stream",
          "text": [
            "uIntVector[21, 21, 21]...fuIntVector[21, 21, 21] sum: 172032 \n",
            "completed in 0:00:00.112214\n"
          ],
          "name": "stdout"
        }
      ]
    }
  ]
}