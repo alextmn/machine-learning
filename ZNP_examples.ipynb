{
  "nbformat": 4,
  "nbformat_minor": 0,
  "metadata": {
    "colab": {
      "name": "ZNP-examples.ipynb",
      "provenance": [],
      "collapsed_sections": []
    },
    "kernelspec": {
      "name": "python3",
      "display_name": "Python 3"
    }
  },
  "cells": [
    {
      "cell_type": "markdown",
      "metadata": {
        "id": "4YRLCW6JXZ93",
        "colab_type": "text"
      },
      "source": [
        "# Zero knowledge proof examples\n",
        "### We need to install python-libsnark"
      ]
    },
    {
      "cell_type": "code",
      "metadata": {
        "id": "mcjNdFWLXoIa",
        "colab_type": "code",
        "colab": {
          "base_uri": "https://localhost:8080/",
          "height": 122
        },
        "outputId": "5201b5c3-08a5-4396-fbe9-e3e61e2643af"
      },
      "source": [
        "!pip install python-libsnark"
      ],
      "execution_count": 1,
      "outputs": [
        {
          "output_type": "stream",
          "text": [
            "Collecting python-libsnark\n",
            "\u001b[?25l  Downloading https://files.pythonhosted.org/packages/6f/67/e419c42f46cfd21dc73b79f4a55116a493d7d88af4dc9dc0311a71b69939/python_libsnark-0.3.2-cp36-cp36m-manylinux2010_x86_64.whl (2.5MB)\n",
            "\u001b[K     |████████████████████████████████| 2.5MB 4.4MB/s \n",
            "\u001b[?25hInstalling collected packages: python-libsnark\n",
            "Successfully installed python-libsnark-0.3.2\n"
          ],
          "name": "stdout"
        }
      ]
    },
    {
      "cell_type": "markdown",
      "metadata": {
        "id": "AnPMKJmlY2Yv",
        "colab_type": "text"
      },
      "source": [
        "# Example 1. Mutual Fund example\n",
        "The active mutual fund manager wants to prove that the fund contains only using certain stocks, eg. { GOOG, AAPL } and nothing else. But the manager wants to hide the individual stock positions.<br/><br/>\n",
        " \n",
        " <b>Constraint breakdown:</b><br/><i>\n",
        " partial_sum1 = goog_position * goog_price<br/>\n",
        " partial_sum2 = aapl_position * aapl_price<br/>\n",
        " price = partial_sum1 + partial_sum2<br/></i>"
      ]
    },
    {
      "cell_type": "code",
      "metadata": {
        "id": "A3m4Ep4gZGkf",
        "colab_type": "code",
        "colab": {}
      },
      "source": [
        "import libsnark.alt_bn128 as libsnark\n",
        "def mutual_fund_constraint(pb):\n",
        "  # position variables\n",
        "  # they are private for the fund manager\n",
        "  goog_position = libsnark.PbVariable()\n",
        "  goog_position.allocate(pb)\n",
        "\n",
        "  aapl_position = libsnark.PbVariable()\n",
        "  aapl_position.allocate(pb)\n",
        "\n",
        "  # partials\n",
        "  partial_sum1 = libsnark.PbVariable()\n",
        "  partial_sum1.allocate(pb)\n",
        "  partial_sum2 = libsnark.PbVariable()\n",
        "  partial_sum2.allocate(pb)\n",
        "\n",
        "  # daily close price variables\n",
        "  # they are public and they will used by verifiers\n",
        "  goog_price = libsnark.PbVariable()\n",
        "  goog_price.allocate(pb)\n",
        "  pb.setpublic(goog_price)\n",
        "\n",
        "  aapl_price = libsnark.PbVariable()\n",
        "  aapl_price.allocate(pb)\n",
        "  pb.setpublic(aapl_price)\n",
        "\n",
        "  # fund closing price\n",
        "  fund_price = libsnark.PbVariable()\n",
        "  fund_price.allocate(pb)\n",
        "  pb.setpublic(fund_price)\n",
        "\n",
        "  # partial1 = goog_price * goog_position\n",
        "  pb.add_r1cs_constraint(libsnark.R1csConstraint(libsnark.LinearCombination(goog_price),\n",
        "                                                      libsnark.LinearCombination(goog_position),\n",
        "                                                      libsnark.LinearCombination(partial_sum1)))\n",
        "  # partial2 = aapl_price * aapl_position\n",
        "  pb.add_r1cs_constraint(libsnark.R1csConstraint(libsnark.LinearCombination(aapl_price),\n",
        "                                                      libsnark.LinearCombination(aapl_position),\n",
        "                                                      libsnark.LinearCombination(partial_sum2)))\n",
        "  # fund  price = (partial_sum1 + partial_sum2) * 1\n",
        "  pb.add_r1cs_constraint(libsnark.R1csConstraint(libsnark.LinearCombination(partial_sum1) + libsnark.LinearCombination(partial_sum2),\n",
        "                                                      libsnark.LinearCombination(1),\n",
        "                                                      libsnark.LinearCombination(fund_price)))\n",
        "\n",
        "  return fund_price, goog_price, aapl_price, goog_position, aapl_position, partial_sum1, partial_sum2"
      ],
      "execution_count": 2,
      "outputs": []
    },
    {
      "cell_type": "markdown",
      "metadata": {
        "id": "pl6Zpj3Ir6AZ",
        "colab_type": "text"
      },
      "source": [
        "## Generate prooving and verification keys"
      ]
    },
    {
      "cell_type": "code",
      "metadata": {
        "id": "bJqZ2g4vr4Yk",
        "colab_type": "code",
        "colab": {}
      },
      "source": [
        "  # creating a new ZNP board\n",
        "  pb=libsnark.ProtoboardPub()\n",
        "\n",
        "  mutual_fund_constraint(pb)\n",
        "  cs=pb.get_constraint_system_pubs()\n",
        "  keypair=libsnark.zk_generator(cs)\n",
        "  libsnark.zk_write_keys(keypair, \"fund.vk\", \"fund.ek\")"
      ],
      "execution_count": 3,
      "outputs": []
    },
    {
      "cell_type": "markdown",
      "metadata": {
        "id": "CYkNxnvqhFJQ",
        "colab_type": "text"
      },
      "source": [
        "### Mutual Fund proof "
      ]
    },
    {
      "cell_type": "code",
      "metadata": {
        "id": "ouq_JA8OY1zR",
        "colab_type": "code",
        "colab": {
          "base_uri": "https://localhost:8080/",
          "height": 187
        },
        "outputId": "ac7426a6-fcd6-41ec-f877-c4feec2be89f"
      },
      "source": [
        "# creating a new ZNP board\n",
        "pb=libsnark.ProtoboardPub()\n",
        "fund_price, goog_price, aapl_price, goog_position, aapl_position, partial_sum1, partial_sum2 = mutual_fund_constraint(pb)\n",
        "\n",
        "# now the fund managers sets all the variables\n",
        "# private variables\n",
        "pb.setval(goog_position, 10 )\n",
        "pb.setval(aapl_position, 20 )\n",
        "pb.setval(partial_sum1, 1465 * 10 )\n",
        "pb.setval(partial_sum2, 437 * 20 )\n",
        "# public variables\n",
        "pb.setval(goog_price, 1465 )\n",
        "pb.setval(aapl_price, 437 )\n",
        "# 1465 * 10 + 437 * 20 = 23390\n",
        "pb.setval(fund_price, 23390)\n",
        "\n",
        "cs=pb.get_constraint_system_pubs()\n",
        "pubvals=pb.primary_input_pubs();\n",
        "privvals=pb.auxiliary_input_pubs();\n",
        "\n",
        "# read the key\n",
        "keypair=libsnark.zk_read_key(\"fund.ek\", cs)\n",
        "if not keypair:\n",
        "    raise Exception(\"*** No prooving key or computation changed\")    \n",
        "\n",
        "print(\"*** Private inputs: \" + \" \".join([str(privvals.at(i)) for i in range(privvals.size())]))\n",
        "print(\"*** Public inputs: \" + \" \".join([str(pubvals.at(i)) for i in range(pubvals.size())]))\n",
        "proof=libsnark.zk_prover(keypair.pk, pubvals, privvals);\n",
        "libsnark.zk_write_proof(proof,pubvals,'proof')\n",
        "!ls -lart"
      ],
      "execution_count": 4,
      "outputs": [
        {
          "output_type": "stream",
          "text": [
            "*** Private inputs: 10 20 14650 8740\n",
            "*** Public inputs: 1465 437 23390\n",
            "total 36\n",
            "drwxr-xr-x 1 root root  4096 Jul 30 16:30 sample_data\n",
            "drwxr-xr-x 1 root root  4096 Aug  3 16:17 .config\n",
            "drwxr-xr-x 1 root root  4096 Aug  6 04:29 ..\n",
            "-rw-r--r-- 1 root root  2486 Aug  6 04:30 fund.vk\n",
            "-rw-r--r-- 1 root root 10584 Aug  6 04:30 fund.ek\n",
            "-rw-r--r-- 1 root root  1414 Aug  6 04:30 proof\n",
            "drwxr-xr-x 1 root root  4096 Aug  6 04:30 .\n"
          ],
          "name": "stdout"
        }
      ]
    },
    {
      "cell_type": "markdown",
      "metadata": {
        "id": "9gA4z5SxnHUj",
        "colab_type": "text"
      },
      "source": [
        "## Proof Verification\n"
      ]
    },
    {
      "cell_type": "code",
      "metadata": {
        "id": "FB_tYBOJnMcS",
        "colab_type": "code",
        "colab": {
          "base_uri": "https://localhost:8080/",
          "height": 51
        },
        "outputId": "29ba1d3a-79ca-4c7f-e4fd-b7edce319635"
      },
      "source": [
        "# creating a new ZNP board\n",
        "pb=libsnark.ProtoboardPub()\n",
        "fund_price, goog_price, aapl_price, _, _, _, _ = mutual_fund_constraint(pb)\n",
        "\n",
        "cs=pb.get_constraint_system_pubs()\n",
        "keypair=libsnark.zk_read_key(\"fund.ek\", cs)\n",
        "if not keypair:\n",
        "    raise Exception(\"*** No verification key or computation changed\")  \n",
        "\n",
        "# public variables\n",
        "pb.setval(goog_price, 1465 )\n",
        "pb.setval(aapl_price, 437 )\n",
        "pb.setval(fund_price, 23390)\n",
        "\n",
        "pubvals=pb.primary_input_pubs();\n",
        "verified=libsnark.zk_verifier_strong_IC(keypair.vk, pubvals, proof);\n",
        "    \n",
        "print(\"*** Public inputs: \" + \" \".join([str(pubvals.at(i)) for i in range(pubvals.size())]))\n",
        "print(\"*** Verification status:\", verified)"
      ],
      "execution_count": 5,
      "outputs": [
        {
          "output_type": "stream",
          "text": [
            "*** Public inputs: 1465 437 23390\n",
            "*** Verification status: True\n"
          ],
          "name": "stdout"
        }
      ]
    },
    {
      "cell_type": "markdown",
      "metadata": {
        "id": "S-ZQAWgdX3lP",
        "colab_type": "text"
      },
      "source": [
        "#  Example 2: Sufficient Funds Verification <br/>\n",
        "The Banks ABC's client has at least N dollars and her/his account \n",
        "<br> The Bank will compare the client account balance (private data) with the requested threshold (public data) and generates the public proof.\n",
        "<br/>\n",
        "This is an example of the comparision constraint"
      ]
    },
    {
      "cell_type": "code",
      "metadata": {
        "id": "xTwNTMpHXPUV",
        "colab_type": "code",
        "colab": {}
      },
      "source": [
        "import libsnark.alt_bn128 as libsnark\n",
        "\n",
        "def signed_2_unsigned(arg, word_size = 32):\n",
        "  return arg if arg >= 0 else arg + 2**word_size\n",
        "\n",
        "def bitfield(n):\n",
        "    return [int(digit) for digit in bin(n)[2:][::-1]] # [2:] to chop off the \"0b\" part, and reverse\n",
        "\n",
        "def bin_constraint(pb, word_size):\n",
        "    # decimal value\n",
        "    packed = libsnark.PbVariable()\n",
        "    packed.allocate(pb)\n",
        "    # array of bin representation of the decimal value\n",
        "    unpacked_array = []\n",
        "    for n in range(word_size):\n",
        "      v = libsnark.PbVariable()\n",
        "      v.allocate(pb)\n",
        "      unpacked_array.append(v)\n",
        "\n",
        "    # bin to decimal calculation\n",
        "    packed_combination = libsnark.LinearCombination(0);\n",
        "    for n in range(word_size):\n",
        "      packed_combination += libsnark.LinearCombination(unpacked_array[n]) * 2**n\n",
        "\n",
        "    # add constrain packed == packed_combination\n",
        "    pb.add_r1cs_constraint(libsnark.R1csConstraint( packed_combination,\n",
        "                                                    libsnark.LinearCombination(1),\n",
        "                                                    libsnark.LinearCombination(packed)))\n",
        "    return unpacked_array, packed\n",
        "\n",
        "# Compare\n",
        "# Given two positive numbers A, B, calculate R = A-B\n",
        "# if A>=B, then R >= 0, so the sign bit will 0 meaning unpacked_array[0] == 0\n",
        "# otherwise the unpacked_array[0] == 1\n",
        "#\n",
        "# The inputs will be: A, B, unsigned R, binary array of R: b(R)\n",
        "# We have to prove that\n",
        "# 1. decimal unsigned R equals binary b(R), bin_constraint\n",
        "# 2. signed R  == A - B, which is linear constraint\n",
        "# 3. b(R)[0] == 1 ( A >= B )\n",
        "def less_constraint(pb, word_size = 32):\n",
        "\n",
        "    # 1. decimal R equals binary b(R), bin_constraint\n",
        "    b_r, r_unsigned = bin_constraint(pb, word_size)\n",
        "\n",
        "    # 2. R == A - B\n",
        "    a = libsnark.PbVariable()\n",
        "    a.allocate(pb)\n",
        "    pb.setpublic(a)\n",
        "\n",
        "    b = libsnark.PbVariable()\n",
        "    b.allocate(pb)\n",
        "    \n",
        "\n",
        "    pb.add_r1cs_constraint(libsnark.R1csConstraint( libsnark.LinearCombination(a) - libsnark.LinearCombination(b),\n",
        "                                                    libsnark.LinearCombination(1),\n",
        "                                                    # convert it back to signed\n",
        "                                                    libsnark.LinearCombination(r_unsigned) - libsnark.LinearCombination(2**word_size) ))\n",
        "\n",
        "\n",
        "    # 3. b(R)[word_size - 1] == 1\n",
        "    pb.add_r1cs_constraint(libsnark.R1csConstraint( libsnark.LinearCombination(b_r[word_size - 1]),\n",
        "                                                    libsnark.LinearCombination(1),\n",
        "                                                    libsnark.LinearCombination(1)))\n",
        "    \n",
        "    return a, b, r_unsigned, b_r\n"
      ],
      "execution_count": 6,
      "outputs": []
    },
    {
      "cell_type": "markdown",
      "metadata": {
        "id": "6U3XVVR2ySwX",
        "colab_type": "text"
      },
      "source": [
        "## Testing the comparison constraint\n",
        "#### Client's balance: 1000 USD\n",
        "#### Required balance: 900 USD"
      ]
    },
    {
      "cell_type": "code",
      "metadata": {
        "id": "cEC7ml0jnUs-",
        "colab_type": "code",
        "colab": {
          "base_uri": "https://localhost:8080/",
          "height": 68
        },
        "outputId": "c34c5713-8569-46d6-b933-bdd5a5151ce6"
      },
      "source": [
        "# creating the board\n",
        "pb=libsnark.ProtoboardPub()\n",
        "\n",
        "# define compare constraints and get the created variables back\n",
        "a, b, r_unsigned, b_r = less_constraint(pb)\n",
        "\n",
        "# generate a pair of proving and verification keys for the compare constraints\n",
        "keypair=libsnark.zk_generator(cs)\n",
        "\n",
        "\n",
        "val_clients_balance = 1000\n",
        "val_required_threshold = 900\n",
        "val_unsigned_r = signed_2_unsigned(val_required_threshold - val_clients_balance )\n",
        "\n",
        "bit_array = bitfield(val_unsigned_r)\n",
        "print(bit_array)\n",
        "for n, bit in zip(range(len(bit_array)), bit_array):\n",
        "  pb.setval(b_r[n], bit)\n",
        "\n",
        "pb.setval(r_unsigned, val_unsigned_r )\n",
        "pb.setval(a, val_required_threshold )\n",
        "pb.setval(b, val_clients_balance )\n",
        "\n",
        "\n",
        "\n",
        "cs=pb.get_constraint_system_pubs()\n",
        "pubvals=pb.primary_input_pubs();\n",
        "privvals=pb.auxiliary_input_pubs();\n",
        "\n",
        "proof=libsnark.zk_prover(keypair.pk, pubvals, privvals);\n",
        "\n",
        "verified=libsnark.zk_verifier_strong_IC(keypair.vk, pubvals, proof);\n",
        "    \n",
        "print(\"*** Public inputs: \" + \" \".join([str(pubvals.at(i)) for i in range(pubvals.size())]))\n",
        "print(\"*** Verification status:\", verified)"
      ],
      "execution_count": 11,
      "outputs": [
        {
          "output_type": "stream",
          "text": [
            "[0, 0, 1, 1, 1, 0, 0, 1, 1, 1, 1, 1, 1, 1, 1, 1, 1, 1, 1, 1, 1, 1, 1, 1, 1, 1, 1, 1, 1, 1, 1, 1]\n",
            "*** Public inputs: 900\n",
            "*** Verification status: True\n"
          ],
          "name": "stdout"
        }
      ]
    }
  ]
}