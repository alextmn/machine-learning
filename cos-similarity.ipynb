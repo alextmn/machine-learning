{
 "cells": [
  {
   "cell_type": "markdown",
   "metadata": {},
   "source": [
    "# I. Full text search using homorphic encryption\n",
    "\n",
    "The use case is the following:\n",
    "1. I have a string and I want to compare it againts another string. \n",
    "2. Both strings are secret and they belong to two different parties \n",
    "3. I would like to check how similar the strings are without seeing the other string\n",
    "\n",
    "First, lets define a sentence to vector function. Lets create a dictionary of all the english letters and map the given senstence letter by letter to this dictonary. The resulting vector is a fixed size vector which contains the letters and number  of occurences of this letters in the given sentence."
   ]
  },
  {
   "cell_type": "code",
   "execution_count": 302,
   "metadata": {},
   "outputs": [],
   "source": [
    "from collections import Counter\n",
    "import string\n",
    "english_letters = dict.fromkeys(string.ascii_lowercase, 0)\n",
    "\n",
    "def sentence2Vec(sentence, vocabulary = english_letters):\n",
    "    cw = Counter(sentence)\n",
    "    return list(map(lambda a: cw[a[0]], vocabulary.items()))"
   ]
  },
  {
   "cell_type": "markdown",
   "metadata": {},
   "source": [
    "Lets test it"
   ]
  },
  {
   "cell_type": "code",
   "execution_count": 291,
   "metadata": {},
   "outputs": [
    {
     "data": {
      "text/plain": [
       "[0, 0, 0, 0, 3, 0, 0, 2, 0, 0, 0, 2, 0, 0, 1, 0, 0, 1, 0, 1, 0, 0, 0, 0, 0, 0]"
      ]
     },
     "execution_count": 291,
     "metadata": {},
     "output_type": "execute_result"
    }
   ],
   "source": [
    "v1 = sentence2Vec(\"hello there\")\n",
    "v1"
   ]
  },
  {
   "cell_type": "code",
   "execution_count": 292,
   "metadata": {},
   "outputs": [
    {
     "data": {
      "text/plain": [
       "[0, 0, 0, 0, 4, 0, 0, 1, 0, 0, 0, 2, 0, 1, 2, 0, 0, 1, 0, 0, 0, 1, 0, 0, 1, 0]"
      ]
     },
     "execution_count": 292,
     "metadata": {},
     "output_type": "execute_result"
    }
   ],
   "source": [
    "v2 = sentence2Vec(\"hello everyone\", vocabulary)\n",
    "v2"
   ]
  },
  {
   "cell_type": "markdown",
   "metadata": {},
   "source": [
    "## Now we can use the fuction cosine_similarity to see how close one sentence to another sentense"
   ]
  },
  {
   "cell_type": "code",
   "execution_count": 58,
   "metadata": {},
   "outputs": [
    {
     "data": {
      "text/plain": [
       "array([[0.87197754]])"
      ]
     },
     "execution_count": 58,
     "metadata": {},
     "output_type": "execute_result"
    }
   ],
   "source": [
    "from sklearn.metrics.pairwise import cosine_similarity\n",
    "cosine_similarity(np.array(v1).reshape(1,-1),\n",
    "                  np.array(v2).reshape(1,-1))"
   ]
  },
  {
   "cell_type": "markdown",
   "metadata": {},
   "source": [
    "## Lets implement this fuction"
   ]
  },
  {
   "cell_type": "code",
   "execution_count": 195,
   "metadata": {},
   "outputs": [],
   "source": [
    "def dot(K, L):\n",
    "    if len(K) != len(L):\n",
    "        return 0\n",
    "\n",
    "    return sum(i[0] * i[1] for i in zip(K, L))"
   ]
  },
  {
   "cell_type": "code",
   "execution_count": 196,
   "metadata": {},
   "outputs": [
    {
     "data": {
      "text/plain": [
       "0.8719775384642696"
      ]
     },
     "execution_count": 196,
     "metadata": {},
     "output_type": "execute_result"
    }
   ],
   "source": [
    "import math\n",
    "dot(v1,v2)/( math.sqrt(dot(v1,v1)) * math.sqrt(dot(v2,v2)))"
   ]
  },
  {
   "cell_type": "markdown",
   "metadata": {},
   "source": [
    "# Lets define homorphic operations in python. I am using the homomorphic kernel I built in the past based on MS SEAL project\n",
    "\n",
    "<b><i>(!) Please note the homomorphic encryption supports only 2 operations: addition and multiplication.</i></b>"
   ]
  },
  {
   "cell_type": "code",
   "execution_count": 280,
   "metadata": {},
   "outputs": [],
   "source": [
    "import requests\n",
    "baseUrl = 'http://localhost:8080/v2'\n",
    "\n",
    "def encrypt_array(array):\n",
    "    return requests.post(baseUrl + '/encrypt-array', params=dict(pubKey='alex', value=array)).json()['encrypted']\n",
    "def encrypt(value):\n",
    "    return requests.post(baseUrl + '/encrypt', params=dict(pubKey='alex', value=value)).json()['encrypted']\n",
    "def emul(encrypted1, encrypted2):\n",
    "    return requests.post(baseUrl + '/mul', params=dict(pubKey='alex', c1=encrypted1, c2=encrypted2)).json()['encrypted']\n",
    "def eproduct(eArray1, eArray2):\n",
    "    pairs= list(map (lambda a: dict(v1=a[0], v2=a[1]), zip(eArray1, eArray2)))\n",
    "    return requests.post(baseUrl + '/product', json=dict(pubKey='alex', pairs=pairs)).json()['encrypted']\n",
    "def decrypt(value):\n",
    "    return requests.post(baseUrl + '/decrypt', params=dict(key='alex', value=value)).json()['value']"
   ]
  },
  {
   "cell_type": "markdown",
   "metadata": {},
   "source": [
    "## Now lets encrypt two vectors"
   ]
  },
  {
   "cell_type": "code",
   "execution_count": 281,
   "metadata": {},
   "outputs": [],
   "source": [
    "ev1 = encrypt_array(v1)\n",
    "ev2 = encrypt_array(v2)"
   ]
  },
  {
   "cell_type": "markdown",
   "metadata": {},
   "source": [
    "## Lets encrypt partial denominator\n",
    "<b><i>(!) it is devided by one because homomorphic encryption does not support division. So once we invert it we will be using multiplication when computing cos</i></b>"
   ]
  },
  {
   "cell_type": "code",
   "execution_count": 282,
   "metadata": {},
   "outputs": [],
   "source": [
    "pd1 = encrypt( 1./math.sqrt(dot(v1,v1)) )"
   ]
  },
  {
   "cell_type": "markdown",
   "metadata": {},
   "source": [
    "## Now lets caluclate the dot product of v1 and v2"
   ]
  },
  {
   "cell_type": "code",
   "execution_count": 284,
   "metadata": {},
   "outputs": [],
   "source": [
    "ev12 = eproduct(ev1, ev2)"
   ]
  },
  {
   "cell_type": "markdown",
   "metadata": {},
   "source": [
    "## Calculating encrypted partial cosin without v1 distance"
   ]
  },
  {
   "cell_type": "code",
   "execution_count": 298,
   "metadata": {},
   "outputs": [],
   "source": [
    "e_cos_sim_part = emul(ev12,pd1)"
   ]
  },
  {
   "cell_type": "markdown",
   "metadata": {},
   "source": [
    "## Now we can decrypt the result and divide it by v1 distance to obtain the consin\n",
    "(!) It was not nessesery to encrypt v1 part of denominator. We do have access to this vector and we can compute it after we decrypt the value to get cos"
   ]
  },
  {
   "cell_type": "code",
   "execution_count": 286,
   "metadata": {},
   "outputs": [
    {
     "data": {
      "text/plain": [
       "0.8719775384642696"
      ]
     },
     "execution_count": 286,
     "metadata": {},
     "output_type": "execute_result"
    }
   ],
   "source": [
    "decrypt(e_cos_sim_part)/math.sqrt(dot(v1,v1))"
   ]
  },
  {
   "cell_type": "markdown",
   "metadata": {},
   "source": [
    "Violà.  We can see the result is the same as we did it without encryption.\n",
    "Cos(0) = 1 the smallest angle and Cos(90)=0 for the biigest angle.\n",
    "So bigger cos, more similarity between string."
   ]
  },
  {
   "cell_type": "code",
   "execution_count": null,
   "metadata": {},
   "outputs": [],
   "source": []
  },
  {
   "cell_type": "code",
   "execution_count": null,
   "metadata": {},
   "outputs": [],
   "source": []
  },
  {
   "cell_type": "markdown",
   "metadata": {},
   "source": [
    "# II. Database search"
   ]
  },
  {
   "cell_type": "code",
   "execution_count": 354,
   "metadata": {},
   "outputs": [],
   "source": [
    "database = [\n",
    "         \"we walked to the store\",\n",
    "         \"my father is an excellent cook\",\n",
    "         \"we will have fun at the beach\",\n",
    "         \"the brothers fought but loved each other anyway\"]"
   ]
  },
  {
   "cell_type": "code",
   "execution_count": 355,
   "metadata": {},
   "outputs": [
    {
     "data": {
      "text/plain": [
       "array([[1, 0, 0, 1, 4, 0, 0, 1, 0, 0, 1, 1, 0, 0, 2, 0, 0, 1, 1, 3, 0, 0,\n",
       "        2, 0, 0, 0],\n",
       "       [2, 0, 2, 0, 4, 1, 0, 1, 1, 0, 1, 2, 1, 2, 2, 0, 0, 1, 1, 2, 0, 0,\n",
       "        0, 1, 1, 0],\n",
       "       [3, 1, 1, 0, 4, 1, 0, 3, 1, 0, 0, 2, 0, 1, 0, 0, 0, 0, 0, 2, 1, 1,\n",
       "        2, 0, 0, 0],\n",
       "       [3, 2, 1, 1, 5, 1, 1, 5, 0, 0, 0, 1, 0, 1, 4, 0, 0, 3, 1, 5, 2, 1,\n",
       "        1, 0, 2, 0]])"
      ]
     },
     "execution_count": 355,
     "metadata": {},
     "output_type": "execute_result"
    }
   ],
   "source": [
    "database2vec = np.array(list(map(sentence2Vec,database)))\n",
    "database2vec"
   ]
  },
  {
   "cell_type": "code",
   "execution_count": 356,
   "metadata": {},
   "outputs": [
    {
     "data": {
      "text/plain": [
       "array([[array([1, 0, 0, 1, 4, 0, 0, 1, 0, 0, 1, 1, 0, 0, 2, 0, 0, 1, 1, 3, 0, 0,\n",
       "       2, 0, 0, 0]),\n",
       "        0.15811388300841897],\n",
       "       [array([2, 0, 2, 0, 4, 1, 0, 1, 1, 0, 1, 2, 1, 2, 2, 0, 0, 1, 1, 2, 0, 0,\n",
       "       0, 1, 1, 0]),\n",
       "        0.14285714285714285],\n",
       "       [array([3, 1, 1, 0, 4, 1, 0, 3, 1, 0, 0, 2, 0, 1, 0, 0, 0, 0, 0, 2, 1, 1,\n",
       "       2, 0, 0, 0]),\n",
       "        0.13736056394868904],\n",
       "       [array([3, 2, 1, 1, 5, 1, 1, 5, 0, 0, 0, 1, 0, 1, 4, 0, 0, 3, 1, 5, 2, 1,\n",
       "       1, 0, 2, 0]),\n",
       "        0.08770580193070293]], dtype=object)"
      ]
     },
     "execution_count": 356,
     "metadata": {},
     "output_type": "execute_result"
    }
   ],
   "source": [
    "database2vect_w_denom = np.array(list(\n",
    "    map(lambda v: (v, 1./math.sqrt(dot(v,v))),database2vec)\n",
    "))\n",
    "database2vect_w_denom"
   ]
  },
  {
   "cell_type": "markdown",
   "metadata": {},
   "source": [
    "## Let's Encrypt the Database"
   ]
  },
  {
   "cell_type": "code",
   "execution_count": 366,
   "metadata": {},
   "outputs": [],
   "source": [
    "db_encrypted = list(map(\n",
    "                        lambda a: ( encrypt_array(a[0]), encrypt(a[1]) ), \n",
    "                        database2vect_w_denom\n",
    "                ))"
   ]
  },
  {
   "cell_type": "code",
   "execution_count": 367,
   "metadata": {},
   "outputs": [],
   "source": [
    "## Create a search function"
   ]
  },
  {
   "cell_type": "code",
   "execution_count": 368,
   "metadata": {},
   "outputs": [],
   "source": [
    "def search(text, db = db_encrypted):\n",
    "    # test to vector\n",
    "    v = sentence2Vec(text)\n",
    "    d_v = math.sqrt(dot(v,v))\n",
    "    # encrypt the vector\n",
    "    e_v = encrypt_array(v)\n",
    "    #calcuclate encrypted product\n",
    "    e_results = list(map(\n",
    "        lambda db_v: emul(db_v[1], eproduct(db_v[0], e_v)) ,db_encrypted\n",
    "    ))\n",
    "    # decrypt the final result and normilize it to v's denominator\n",
    "    return np.array(list(map(lambda a: decrypt(a)/d_v,  e_results)) )"
   ]
  },
  {
   "cell_type": "markdown",
   "metadata": {},
   "source": [
    "# Lets run some searches against encrypted database\n",
    "Cos(0) = 1 the smallest angle and Cos(90)=0 for the biigest angle.\n",
    "So bigger cos, more similarity between string."
   ]
  },
  {
   "cell_type": "code",
   "execution_count": 373,
   "metadata": {},
   "outputs": [
    {
     "data": {
      "text/plain": [
       "array([1.        , 0.76798172, 0.73843281, 0.81818279])"
      ]
     },
     "execution_count": 373,
     "metadata": {},
     "output_type": "execute_result"
    }
   ],
   "source": [
    "search(\"we walked to the store\")"
   ]
  },
  {
   "cell_type": "code",
   "execution_count": 370,
   "metadata": {},
   "outputs": [
    {
     "data": {
      "text/plain": [
       "array([0.77781746, 0.63887656, 0.36857707, 0.70601809])"
      ]
     },
     "execution_count": 370,
     "metadata": {},
     "output_type": "execute_result"
    }
   ],
   "source": [
    "search(\"store\")"
   ]
  },
  {
   "cell_type": "code",
   "execution_count": 371,
   "metadata": {},
   "outputs": [
    {
     "data": {
      "text/plain": [
       "array([0.63245553, 0.52380952, 0.45786855, 0.78935222])"
      ]
     },
     "execution_count": 371,
     "metadata": {},
     "output_type": "execute_result"
    }
   ],
   "source": [
    "search(\"brother\")"
   ]
  },
  {
   "cell_type": "code",
   "execution_count": 372,
   "metadata": {},
   "outputs": [
    {
     "data": {
      "text/plain": [
       "array([0.64048987, 0.54823041, 0.4978513 , 0.86015123])"
      ]
     },
     "execution_count": 372,
     "metadata": {},
     "output_type": "execute_result"
    }
   ],
   "source": [
    "search(\"brothers fought\")"
   ]
  },
  {
   "cell_type": "code",
   "execution_count": null,
   "metadata": {},
   "outputs": [],
   "source": []
  }
 ],
 "metadata": {
  "kernelspec": {
   "display_name": "Python 3",
   "language": "python",
   "name": "python3"
  },
  "language_info": {
   "codemirror_mode": {
    "name": "ipython",
    "version": 3
   },
   "file_extension": ".py",
   "mimetype": "text/x-python",
   "name": "python",
   "nbconvert_exporter": "python",
   "pygments_lexer": "ipython3",
   "version": "3.7.2"
  }
 },
 "nbformat": 4,
 "nbformat_minor": 2
}
